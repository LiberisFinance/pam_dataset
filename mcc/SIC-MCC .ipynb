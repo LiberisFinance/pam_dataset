{
 "cells": [
  {
   "cell_type": "code",
   "execution_count": 8,
   "metadata": {},
   "outputs": [],
   "source": [
    "from urllib.parse import quote_plus\n",
    "import sqlalchemy\n",
    "\n",
    "from pathlib import Path\n",
    "cwd = Path.cwd()\n",
    "data_path = cwd / 'data'\n",
    "import pandas as pd\n",
    "\n",
    "params = quote_plus(\n",
    "    \"\"\"DRIVER={ODBC Driver 13 for SQL Server};SERVER=server-dw01.database.windows.net;DATABASE=DataWarehouseStaging;UID=dw_userlogin;PWD=kljDueK!7\"\"\"\n",
    ")\n",
    "\n",
    "ENGINE = sqlalchemy.create_engine(\"mssql+pyodbc:///?odbc_connect=%s\" % params)\n",
    "\n",
    "\n",
    "def dwhQuery(sqlQuery):\n",
    "    \"\"\"\n",
    "    Wrapper for turning SQL query to DWH\n",
    "    into a pandas dataframe\n",
    "    :param sqlQuery: SQL query to be processed\n",
    "    :return: SQL query as a pandas DataFrame\n",
    "    \"\"\"\n",
    "    return pd.read_sql(sql=sqlQuery, con=ENGINE)"
   ]
  },
  {
   "cell_type": "code",
   "execution_count": 9,
   "metadata": {},
   "outputs": [],
   "source": [
    "SIC_df = dwhQuery('''SELECT * FROM pam.sic_codes''')"
   ]
  },
  {
   "cell_type": "code",
   "execution_count": 10,
   "metadata": {},
   "outputs": [],
   "source": [
    "df = pd.DataFrame()\n",
    "for i, code in enumerate(SIC_df['SIC_CODE'].unique()):\n",
    "    code_df = SIC_df[SIC_df['SIC_CODE'] == code]\n",
    "    desc_list = []\n",
    "    for i, row in code_df.iterrows():\n",
    "        desc_list.append(row['Description'].split())\n",
    "    desc_list = list(set([item.lower() for sublist in desc_list for item in sublist]))\n",
    "    desc = ' '.join(desc_list)\n",
    "    r = pd.DataFrame(data = {'SIC_CODE':code, 'desc':desc}, index = [i])\n",
    "    df = pd.concat([df, r], sort = True)"
   ]
  },
  {
   "cell_type": "code",
   "execution_count": 13,
   "metadata": {},
   "outputs": [],
   "source": [
    "from modules.fastSQL import to_sql_fast\n",
    "to_sql_fast(df, name = 'pam.sic_simple', engine = ENGINE, if_exists = 'replace')"
   ]
  },
  {
   "cell_type": "code",
   "execution_count": 17,
   "metadata": {},
   "outputs": [],
   "source": [
    "mcc_sic_df = dwhQuery('''SELECT DISTINCT\n",
    "\tt.MCC_Desc\n",
    "\t,s.[desc] AS [SIC_DESC]\n",
    "\n",
    "FROM ch.companies AS c\n",
    "\n",
    "LEFT JOIN Accounts AS a\n",
    "\tON a.[Registered No] = c.[original_CRN]\n",
    "\n",
    "LEFT JOIN Opportunities AS o\n",
    "\tON o.[Account ID] = a.[Account ID]\n",
    "\t\tAND o.[Opportunity Record Type] NOT LIKE '%renewal%'\n",
    "\n",
    "LEFT JOIN marketing.WP_Attri_Mailers_bkp AS t\n",
    "\tON t.[Opportunity ID] = o.[Opportunity ID]\n",
    "\n",
    "LEFT JOIN pam.sic_simple AS s\n",
    "\tON s.SIC_CODE = [sic_codes__0]\n",
    "\n",
    "WHERE t.MCC_Desc IS NOT NULL\n",
    "\tAND s.[desc] IS NOT NULL''')"
   ]
  },
  {
   "cell_type": "code",
   "execution_count": 18,
   "metadata": {},
   "outputs": [
    {
     "data": {
      "text/html": [
       "<div>\n",
       "<style scoped>\n",
       "    .dataframe tbody tr th:only-of-type {\n",
       "        vertical-align: middle;\n",
       "    }\n",
       "\n",
       "    .dataframe tbody tr th {\n",
       "        vertical-align: top;\n",
       "    }\n",
       "\n",
       "    .dataframe thead th {\n",
       "        text-align: right;\n",
       "    }\n",
       "</style>\n",
       "<table border=\"1\" class=\"dataframe\">\n",
       "  <thead>\n",
       "    <tr style=\"text-align: right;\">\n",
       "      <th></th>\n",
       "      <th>MCC_Desc</th>\n",
       "      <th>SIC_DESC</th>\n",
       "    </tr>\n",
       "  </thead>\n",
       "  <tbody>\n",
       "    <tr>\n",
       "      <td>0</td>\n",
       "      <td>ADVERTISING SERVICES</td>\n",
       "      <td>imprinting and public searching real-time repo...</td>\n",
       "    </tr>\n",
       "    <tr>\n",
       "      <td>1</td>\n",
       "      <td>ADVERTISING SERVICES</td>\n",
       "      <td>on-line newspaper advertising publishing</td>\n",
       "    </tr>\n",
       "    <tr>\n",
       "      <td>2</td>\n",
       "      <td>ADVERTISING SERVICES</td>\n",
       "      <td>peripheral and installation activities compute...</td>\n",
       "    </tr>\n",
       "    <tr>\n",
       "      <td>3</td>\n",
       "      <td>ADVERTISING SERVICES</td>\n",
       "      <td>sites structures and marketing showroom of con...</td>\n",
       "    </tr>\n",
       "    <tr>\n",
       "      <td>4</td>\n",
       "      <td>AIRPORTS FLYING FIELDS TERMNLS</td>\n",
       "      <td>regular taxi transport and pleasure for servic...</td>\n",
       "    </tr>\n",
       "    <tr>\n",
       "      <td>...</td>\n",
       "      <td>...</td>\n",
       "      <td>...</td>\n",
       "    </tr>\n",
       "    <tr>\n",
       "      <td>1592</td>\n",
       "      <td>WOMENS READY TO WEAR STORES</td>\n",
       "      <td>substitutes wallets and leather saddlery made ...</td>\n",
       "    </tr>\n",
       "    <tr>\n",
       "      <td>1593</td>\n",
       "      <td>WOMENS READY TO WEAR STORES</td>\n",
       "      <td>tapestry piece and thread table-cloths fabric ...</td>\n",
       "    </tr>\n",
       "    <tr>\n",
       "      <td>1594</td>\n",
       "      <td>WRECKING &amp; SALVAGE YARDS</td>\n",
       "      <td>clay and of pallets, prepared load glass in ti...</td>\n",
       "    </tr>\n",
       "    <tr>\n",
       "      <td>1595</td>\n",
       "      <td>WRECKING &amp; SALVAGE YARDS</td>\n",
       "      <td>clay exporter and yard mastics props metal lin...</td>\n",
       "    </tr>\n",
       "    <tr>\n",
       "      <td>1596</td>\n",
       "      <td>WRECKING &amp; SALVAGE YARDS</td>\n",
       "      <td>landfills and disposal authority production ha...</td>\n",
       "    </tr>\n",
       "  </tbody>\n",
       "</table>\n",
       "<p>1597 rows × 2 columns</p>\n",
       "</div>"
      ],
      "text/plain": [
       "                            MCC_Desc  \\\n",
       "0               ADVERTISING SERVICES   \n",
       "1               ADVERTISING SERVICES   \n",
       "2               ADVERTISING SERVICES   \n",
       "3               ADVERTISING SERVICES   \n",
       "4     AIRPORTS FLYING FIELDS TERMNLS   \n",
       "...                              ...   \n",
       "1592     WOMENS READY TO WEAR STORES   \n",
       "1593     WOMENS READY TO WEAR STORES   \n",
       "1594        WRECKING & SALVAGE YARDS   \n",
       "1595        WRECKING & SALVAGE YARDS   \n",
       "1596        WRECKING & SALVAGE YARDS   \n",
       "\n",
       "                                               SIC_DESC  \n",
       "0     imprinting and public searching real-time repo...  \n",
       "1              on-line newspaper advertising publishing  \n",
       "2     peripheral and installation activities compute...  \n",
       "3     sites structures and marketing showroom of con...  \n",
       "4     regular taxi transport and pleasure for servic...  \n",
       "...                                                 ...  \n",
       "1592  substitutes wallets and leather saddlery made ...  \n",
       "1593  tapestry piece and thread table-cloths fabric ...  \n",
       "1594  clay and of pallets, prepared load glass in ti...  \n",
       "1595  clay exporter and yard mastics props metal lin...  \n",
       "1596  landfills and disposal authority production ha...  \n",
       "\n",
       "[1597 rows x 2 columns]"
      ]
     },
     "execution_count": 18,
     "metadata": {},
     "output_type": "execute_result"
    }
   ],
   "source": [
    "mcc_sic_df"
   ]
  },
  {
   "cell_type": "code",
   "execution_count": 19,
   "metadata": {},
   "outputs": [],
   "source": [
    "dict_df = pd.DataFrame()\n",
    "for i, mcc in enumerate(mcc_sic_df['MCC_Desc'].unique()):\n",
    "    mcc_df = mcc_sic_df[mcc_sic_df['MCC_Desc'] == mcc]\n",
    "    sic_desc_list = []\n",
    "    for i, row in mcc_df.iterrows():\n",
    "        sic_desc_list.append(row['SIC_DESC'].split())\n",
    "    sic_desc_list = list(set([item.lower() for sublist in sic_desc_list for item in sublist]))\n",
    "    sic_desc = ' '.join(sic_desc_list)\n",
    "    r = pd.DataFrame(data = {'MCC_DESC':mcc, 'SIC_DESC':sic_desc}, index = [i])\n",
    "    dict_df = pd.concat([dict_df, r], sort = True)"
   ]
  },
  {
   "cell_type": "code",
   "execution_count": 26,
   "metadata": {},
   "outputs": [],
   "source": [
    "dict_df['desc'] = dict_df['MCC_DESC'] + ' ' + dict_df['SIC_DESC']"
   ]
  },
  {
   "cell_type": "code",
   "execution_count": 27,
   "metadata": {},
   "outputs": [],
   "source": [
    "to_sql_fast(dict_df, name = 'pam.mcc_sic_dict', engine = ENGINE, if_exists = 'replace')"
   ]
  },
  {
   "cell_type": "code",
   "execution_count": null,
   "metadata": {},
   "outputs": [],
   "source": []
  }
 ],
 "metadata": {
  "kernelspec": {
   "display_name": "Python 3",
   "language": "python",
   "name": "python3"
  },
  "language_info": {
   "codemirror_mode": {
    "name": "ipython",
    "version": 3
   },
   "file_extension": ".py",
   "mimetype": "text/x-python",
   "name": "python",
   "nbconvert_exporter": "python",
   "pygments_lexer": "ipython3",
   "version": "3.6.9"
  }
 },
 "nbformat": 4,
 "nbformat_minor": 2
}
