{
 "cells": [
  {
   "cell_type": "code",
   "execution_count": 96,
   "metadata": {},
   "outputs": [],
   "source": [
    "from fast_to_SQL.fast_to_SQL import to_sql_fast\n",
    "import pandas as pd\n",
    "import numpy as np\n",
    "from urllib.parse import quote_plus\n",
    "import sqlalchemy\n",
    "\n",
    "params = quote_plus(\n",
    "    \"\"\"DRIVER={ODBC Driver 13 for SQL Server};\n",
    "    SERVER=server-dw01.database.windows.net;\n",
    "    DATABASE=DataWarehouseStaging;\n",
    "    UID=dw_userlogin;\n",
    "    PWD=kljDueK!7\"\"\"\n",
    ")\n",
    "\n",
    "ENGINE = sqlalchemy.create_engine(\"mssql+pyodbc:///?odbc_connect=%s\" % params)"
   ]
  },
  {
   "cell_type": "code",
   "execution_count": 98,
   "metadata": {},
   "outputs": [],
   "source": [
    "TO_df = pd.read_sql('''SELECT [com_id_h]\n",
    "    ,[Opportunity_ID]\n",
    "    ,[First_of_Decision_Month]\n",
    "\t,[-12]\n",
    "\t,[-11]\n",
    "\t,[-10]\n",
    "\t,[-9]\n",
    "\t,[-8]\n",
    "\t,[-7]\n",
    "\t,[-6]\n",
    "\t,[-5]\n",
    "\t,[-4]\n",
    "\t,[-3]\n",
    "\t,[-2]\n",
    "\t,[-1]\n",
    "\n",
    "FROM [pam].[TO_dataset_relative]\n",
    "\n",
    "''', ENGINE)"
   ]
  },
  {
   "cell_type": "code",
   "execution_count": 99,
   "metadata": {},
   "outputs": [],
   "source": [
    "trans_df = pd.read_sql('''SELECT [com_id_h]\n",
    "    ,[Opportunity_ID]\n",
    "    ,[First_of_Decision_Month]\n",
    "\t,[-12]\n",
    "\t,[-11]\n",
    "\t,[-10]\n",
    "\t,[-9]\n",
    "\t,[-8]\n",
    "\t,[-7]\n",
    "\t,[-6]\n",
    "\t,[-5]\n",
    "\t,[-4]\n",
    "\t,[-3]\n",
    "\t,[-2]\n",
    "\t,[-1]\n",
    "\n",
    "FROM [pam].[trans_dataset_relative]\n",
    "\n",
    "''', ENGINE)"
   ]
  },
  {
   "cell_type": "code",
   "execution_count": 100,
   "metadata": {},
   "outputs": [],
   "source": [
    "feature_df = pd.read_sql('''SELECT * FROM pam.dataset_features_dedupe''', ENGINE)"
   ]
  },
  {
   "cell_type": "code",
   "execution_count": 101,
   "metadata": {},
   "outputs": [],
   "source": [
    "def rename_df_cols(df, prefix):\n",
    "    col_list = list(df.columns)\n",
    "    col_list = [i for i in col_list if i not in ['com_id_h', 'First_of_Decision_Month', 'Opportunity_ID']]\n",
    "    new_col_list = [prefix + i.replace(\"-\", \"\") for i in col_list]\n",
    "    col_rename_dict = dict(zip(col_list, new_col_list))\n",
    "    return df.rename(columns = col_rename_dict)"
   ]
  },
  {
   "cell_type": "code",
   "execution_count": 102,
   "metadata": {},
   "outputs": [],
   "source": [
    "TO_df_renamed = rename_df_cols(TO_df, 'turnover_month_')"
   ]
  },
  {
   "cell_type": "code",
   "execution_count": 103,
   "metadata": {},
   "outputs": [],
   "source": [
    "trans_df_renamed = rename_df_cols(trans_df, 'trans_num_month_')"
   ]
  },
  {
   "cell_type": "code",
   "execution_count": 104,
   "metadata": {},
   "outputs": [],
   "source": [
    "vols_df = TO_df_renamed.merge(trans_df_renamed, how = 'inner', on = ['com_id_h', 'First_of_Decision_Month', 'Opportunity_ID'])"
   ]
  },
  {
   "cell_type": "code",
   "execution_count": 105,
   "metadata": {},
   "outputs": [],
   "source": [
    "df = vols_df.merge(feature_df, how = 'left', left_on = ['com_id_h', 'First_of_Decision_Month'], right_on = ['com_id_h', 'file_date'])"
   ]
  },
  {
   "cell_type": "code",
   "execution_count": 106,
   "metadata": {},
   "outputs": [],
   "source": [
    "recent_df = pd.read_sql('''SELECT *\n",
    "\n",
    "FROM pam.dataset_features_dedupe AS d\n",
    "\n",
    "WHERE file_date = (\n",
    "\t\tSELECT MAX(file_date)\n",
    "\t\t\n",
    "\t\tFROM pam.dataset_features_dedupe AS exc\n",
    "\t\t\n",
    "\t\tWHERE exc.com_id_h = d.com_id_h\n",
    "\t\t)\n",
    "\n",
    "''', ENGINE)"
   ]
  },
  {
   "cell_type": "code",
   "execution_count": 107,
   "metadata": {},
   "outputs": [],
   "source": [
    "calc_df = df.merge(recent_df, how = 'left', on = 'com_id_h')"
   ]
  },
  {
   "cell_type": "code",
   "execution_count": 108,
   "metadata": {},
   "outputs": [],
   "source": [
    "calc_df['month_diff'] = ((calc_df['file_date_y'] - calc_df['First_of_Decision_Month'])/np.timedelta64(1, 'M')).astype(int)"
   ]
  },
  {
   "cell_type": "code",
   "execution_count": 109,
   "metadata": {},
   "outputs": [],
   "source": [
    "calc_df['calc_tenure_in_months'] = calc_df['tenure_in_months_y'] - calc_df['month_diff']"
   ]
  },
  {
   "cell_type": "code",
   "execution_count": 110,
   "metadata": {},
   "outputs": [],
   "source": [
    "calc_df['tenure_in_months'] = calc_df['tenure_in_months_x'].combine_first(calc_df['calc_tenure_in_months'])"
   ]
  },
  {
   "cell_type": "code",
   "execution_count": 111,
   "metadata": {},
   "outputs": [
    {
     "data": {
      "text/html": [
       "<div>\n",
       "<style scoped>\n",
       "    .dataframe tbody tr th:only-of-type {\n",
       "        vertical-align: middle;\n",
       "    }\n",
       "\n",
       "    .dataframe tbody tr th {\n",
       "        vertical-align: top;\n",
       "    }\n",
       "\n",
       "    .dataframe thead th {\n",
       "        text-align: right;\n",
       "    }\n",
       "</style>\n",
       "<table border=\"1\" class=\"dataframe\">\n",
       "  <thead>\n",
       "    <tr style=\"text-align: right;\">\n",
       "      <th></th>\n",
       "      <th>com_id_h</th>\n",
       "      <th>Opportunity_ID</th>\n",
       "      <th>First_of_Decision_Month</th>\n",
       "      <th>turnover_month_12</th>\n",
       "      <th>turnover_month_11</th>\n",
       "      <th>turnover_month_10</th>\n",
       "      <th>turnover_month_9</th>\n",
       "      <th>turnover_month_8</th>\n",
       "      <th>turnover_month_7</th>\n",
       "      <th>turnover_month_6</th>\n",
       "      <th>...</th>\n",
       "      <th>trans_num_month_1</th>\n",
       "      <th>file_date_x</th>\n",
       "      <th>MCC_DESC_x</th>\n",
       "      <th>tenure_in_months_x</th>\n",
       "      <th>file_date_y</th>\n",
       "      <th>MCC_DESC_y</th>\n",
       "      <th>tenure_in_months_y</th>\n",
       "      <th>month_diff</th>\n",
       "      <th>calc_tenure_in_months</th>\n",
       "      <th>tenure_in_months</th>\n",
       "    </tr>\n",
       "  </thead>\n",
       "  <tbody>\n",
       "    <tr>\n",
       "      <td>0</td>\n",
       "      <td>000A58863896B7F82B41C2AE73C152D40F27A9D1000000...</td>\n",
       "      <td>006w000000p3sZvAAI</td>\n",
       "      <td>2017-03-01</td>\n",
       "      <td>NaN</td>\n",
       "      <td>5644.000</td>\n",
       "      <td>4410.00</td>\n",
       "      <td>4725.00</td>\n",
       "      <td>5675.0</td>\n",
       "      <td>7586.00</td>\n",
       "      <td>4945.000</td>\n",
       "      <td>...</td>\n",
       "      <td>NaN</td>\n",
       "      <td>NaT</td>\n",
       "      <td>NaN</td>\n",
       "      <td>NaN</td>\n",
       "      <td>2019-11-01</td>\n",
       "      <td>DRINKING PLACES (ALCOHOLIC)</td>\n",
       "      <td>59.0</td>\n",
       "      <td>32</td>\n",
       "      <td>27.0</td>\n",
       "      <td>27.0</td>\n",
       "    </tr>\n",
       "    <tr>\n",
       "      <td>1</td>\n",
       "      <td>00174CEAF374646AEFC22F47F096A4265B313564000000...</td>\n",
       "      <td>0062X00000wd0b7QAA</td>\n",
       "      <td>2018-12-01</td>\n",
       "      <td>17348.93</td>\n",
       "      <td>32110.210</td>\n",
       "      <td>45740.00</td>\n",
       "      <td>26550.00</td>\n",
       "      <td>39880.0</td>\n",
       "      <td>48185.00</td>\n",
       "      <td>45719.000</td>\n",
       "      <td>...</td>\n",
       "      <td>58.0</td>\n",
       "      <td>2018-12-01</td>\n",
       "      <td>MEDICAL SERVICES MISC</td>\n",
       "      <td>171.0</td>\n",
       "      <td>2019-11-01</td>\n",
       "      <td>MEDICAL SERVICES MISC</td>\n",
       "      <td>182.0</td>\n",
       "      <td>11</td>\n",
       "      <td>171.0</td>\n",
       "      <td>171.0</td>\n",
       "    </tr>\n",
       "    <tr>\n",
       "      <td>2</td>\n",
       "      <td>0025505E3307957A9646C27BBBF7FB827EA22A4D000000...</td>\n",
       "      <td>0062X00000upQYdQAM</td>\n",
       "      <td>2018-04-01</td>\n",
       "      <td>19120.00</td>\n",
       "      <td>25541.000</td>\n",
       "      <td>27353.25</td>\n",
       "      <td>24406.35</td>\n",
       "      <td>29072.1</td>\n",
       "      <td>24235.30</td>\n",
       "      <td>23380.745</td>\n",
       "      <td>...</td>\n",
       "      <td>132.0</td>\n",
       "      <td>NaT</td>\n",
       "      <td>NaN</td>\n",
       "      <td>NaN</td>\n",
       "      <td>2019-11-01</td>\n",
       "      <td>HOTELS MOTELS &amp; RESORTS-LODGIN</td>\n",
       "      <td>66.0</td>\n",
       "      <td>19</td>\n",
       "      <td>47.0</td>\n",
       "      <td>47.0</td>\n",
       "    </tr>\n",
       "    <tr>\n",
       "      <td>3</td>\n",
       "      <td>0042E63ECC3854929AC9D3A357703253ADE83198000000...</td>\n",
       "      <td>0062X00000x96aqQAA</td>\n",
       "      <td>2019-01-01</td>\n",
       "      <td>16606.67</td>\n",
       "      <td>17492.460</td>\n",
       "      <td>20162.44</td>\n",
       "      <td>15979.98</td>\n",
       "      <td>14616.5</td>\n",
       "      <td>21994.11</td>\n",
       "      <td>17860.850</td>\n",
       "      <td>...</td>\n",
       "      <td>19.0</td>\n",
       "      <td>2019-01-01</td>\n",
       "      <td>FREIGHT LOCAL DELIVERY REMOVAL</td>\n",
       "      <td>81.0</td>\n",
       "      <td>2019-11-01</td>\n",
       "      <td>FREIGHT LOCAL DELIVERY REMOVAL</td>\n",
       "      <td>91.0</td>\n",
       "      <td>9</td>\n",
       "      <td>82.0</td>\n",
       "      <td>81.0</td>\n",
       "    </tr>\n",
       "    <tr>\n",
       "      <td>4</td>\n",
       "      <td>0045F0C43EE1D16503D9DE215E9EDB3884FB92E1000000...</td>\n",
       "      <td>0062X00000vYL3aQAG</td>\n",
       "      <td>2018-07-01</td>\n",
       "      <td>2901.00</td>\n",
       "      <td>4168.325</td>\n",
       "      <td>3222.15</td>\n",
       "      <td>2466.00</td>\n",
       "      <td>2727.0</td>\n",
       "      <td>875.00</td>\n",
       "      <td>3443.000</td>\n",
       "      <td>...</td>\n",
       "      <td>18.0</td>\n",
       "      <td>2018-07-01</td>\n",
       "      <td>MENS &amp; WOMENS CLOTHING STORES</td>\n",
       "      <td>55.0</td>\n",
       "      <td>2019-11-01</td>\n",
       "      <td>MENS &amp; WOMENS CLOTHING STORES</td>\n",
       "      <td>71.0</td>\n",
       "      <td>16</td>\n",
       "      <td>55.0</td>\n",
       "      <td>55.0</td>\n",
       "    </tr>\n",
       "  </tbody>\n",
       "</table>\n",
       "<p>5 rows × 36 columns</p>\n",
       "</div>"
      ],
      "text/plain": [
       "                                            com_id_h      Opportunity_ID  \\\n",
       "0  000A58863896B7F82B41C2AE73C152D40F27A9D1000000...  006w000000p3sZvAAI   \n",
       "1  00174CEAF374646AEFC22F47F096A4265B313564000000...  0062X00000wd0b7QAA   \n",
       "2  0025505E3307957A9646C27BBBF7FB827EA22A4D000000...  0062X00000upQYdQAM   \n",
       "3  0042E63ECC3854929AC9D3A357703253ADE83198000000...  0062X00000x96aqQAA   \n",
       "4  0045F0C43EE1D16503D9DE215E9EDB3884FB92E1000000...  0062X00000vYL3aQAG   \n",
       "\n",
       "  First_of_Decision_Month  turnover_month_12  turnover_month_11  \\\n",
       "0              2017-03-01                NaN           5644.000   \n",
       "1              2018-12-01           17348.93          32110.210   \n",
       "2              2018-04-01           19120.00          25541.000   \n",
       "3              2019-01-01           16606.67          17492.460   \n",
       "4              2018-07-01            2901.00           4168.325   \n",
       "\n",
       "   turnover_month_10  turnover_month_9  turnover_month_8  turnover_month_7  \\\n",
       "0            4410.00           4725.00            5675.0           7586.00   \n",
       "1           45740.00          26550.00           39880.0          48185.00   \n",
       "2           27353.25          24406.35           29072.1          24235.30   \n",
       "3           20162.44          15979.98           14616.5          21994.11   \n",
       "4            3222.15           2466.00            2727.0            875.00   \n",
       "\n",
       "   turnover_month_6  ...  trans_num_month_1  file_date_x  \\\n",
       "0          4945.000  ...                NaN          NaT   \n",
       "1         45719.000  ...               58.0   2018-12-01   \n",
       "2         23380.745  ...              132.0          NaT   \n",
       "3         17860.850  ...               19.0   2019-01-01   \n",
       "4          3443.000  ...               18.0   2018-07-01   \n",
       "\n",
       "                       MCC_DESC_x  tenure_in_months_x  file_date_y  \\\n",
       "0                             NaN                 NaN   2019-11-01   \n",
       "1           MEDICAL SERVICES MISC               171.0   2019-11-01   \n",
       "2                             NaN                 NaN   2019-11-01   \n",
       "3  FREIGHT LOCAL DELIVERY REMOVAL                81.0   2019-11-01   \n",
       "4   MENS & WOMENS CLOTHING STORES                55.0   2019-11-01   \n",
       "\n",
       "                       MCC_DESC_y  tenure_in_months_y  month_diff  \\\n",
       "0     DRINKING PLACES (ALCOHOLIC)                59.0          32   \n",
       "1           MEDICAL SERVICES MISC               182.0          11   \n",
       "2  HOTELS MOTELS & RESORTS-LODGIN                66.0          19   \n",
       "3  FREIGHT LOCAL DELIVERY REMOVAL                91.0           9   \n",
       "4   MENS & WOMENS CLOTHING STORES                71.0          16   \n",
       "\n",
       "   calc_tenure_in_months  tenure_in_months  \n",
       "0                   27.0              27.0  \n",
       "1                  171.0             171.0  \n",
       "2                   47.0              47.0  \n",
       "3                   82.0              81.0  \n",
       "4                   55.0              55.0  \n",
       "\n",
       "[5 rows x 36 columns]"
      ]
     },
     "execution_count": 111,
     "metadata": {},
     "output_type": "execute_result"
    }
   ],
   "source": [
    "calc_df.head()"
   ]
  },
  {
   "cell_type": "code",
   "execution_count": 112,
   "metadata": {},
   "outputs": [],
   "source": [
    "calc_df['MCC_DESC'] = calc_df['MCC_DESC_x'].combine_first(calc_df['MCC_DESC_y'])"
   ]
  },
  {
   "cell_type": "code",
   "execution_count": 113,
   "metadata": {},
   "outputs": [
    {
     "data": {
      "text/plain": [
       "Index(['com_id_h', 'Opportunity_ID', 'First_of_Decision_Month',\n",
       "       'turnover_month_12', 'turnover_month_11', 'turnover_month_10',\n",
       "       'turnover_month_9', 'turnover_month_8', 'turnover_month_7',\n",
       "       'turnover_month_6', 'turnover_month_5', 'turnover_month_4',\n",
       "       'turnover_month_3', 'turnover_month_2', 'turnover_month_1',\n",
       "       'trans_num_month_12', 'trans_num_month_11', 'trans_num_month_10',\n",
       "       'trans_num_month_9', 'trans_num_month_8', 'trans_num_month_7',\n",
       "       'trans_num_month_6', 'trans_num_month_5', 'trans_num_month_4',\n",
       "       'trans_num_month_3', 'trans_num_month_2', 'trans_num_month_1',\n",
       "       'file_date_x', 'MCC_DESC_x', 'tenure_in_months_x', 'file_date_y',\n",
       "       'MCC_DESC_y', 'tenure_in_months_y', 'month_diff',\n",
       "       'calc_tenure_in_months', 'tenure_in_months', 'MCC_DESC'],\n",
       "      dtype='object')"
      ]
     },
     "execution_count": 113,
     "metadata": {},
     "output_type": "execute_result"
    }
   ],
   "source": [
    "calc_df.columns"
   ]
  },
  {
   "cell_type": "code",
   "execution_count": 114,
   "metadata": {},
   "outputs": [],
   "source": [
    "final_df = calc_df[['com_id_h', 'Opportunity_ID', 'First_of_Decision_Month', 'tenure_in_months', 'MCC_DESC', 'turnover_month_12',\n",
    "       'turnover_month_11', 'turnover_month_10', 'turnover_month_9',\n",
    "       'turnover_month_8', 'turnover_month_7', 'turnover_month_6',\n",
    "       'turnover_month_5', 'turnover_month_4', 'turnover_month_3',\n",
    "       'turnover_month_2', 'turnover_month_1', 'trans_num_month_12',\n",
    "       'trans_num_month_11', 'trans_num_month_10', 'trans_num_month_9',\n",
    "       'trans_num_month_8', 'trans_num_month_7', 'trans_num_month_6',\n",
    "       'trans_num_month_5', 'trans_num_month_4', 'trans_num_month_3',\n",
    "       'trans_num_month_2', 'trans_num_month_1']]"
   ]
  },
  {
   "cell_type": "code",
   "execution_count": 115,
   "metadata": {},
   "outputs": [],
   "source": [
    "to_sql_fast(final_df, name = 'pam.dataset_PAMready', engine = ENGINE, if_exists = 'replace')"
   ]
  },
  {
   "cell_type": "code",
   "execution_count": null,
   "metadata": {},
   "outputs": [],
   "source": []
  }
 ],
 "metadata": {
  "kernelspec": {
   "display_name": "Python 3",
   "language": "python",
   "name": "python3"
  },
  "language_info": {
   "codemirror_mode": {
    "name": "ipython",
    "version": 3
   },
   "file_extension": ".py",
   "mimetype": "text/x-python",
   "name": "python",
   "nbconvert_exporter": "python",
   "pygments_lexer": "ipython3",
   "version": "3.6.9"
  }
 },
 "nbformat": 4,
 "nbformat_minor": 2
}
