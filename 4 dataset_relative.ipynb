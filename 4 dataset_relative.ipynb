{
 "cells": [
  {
   "cell_type": "code",
   "execution_count": 10,
   "metadata": {},
   "outputs": [],
   "source": [
    "from fast_to_SQL.fast_to_SQL import to_sql_fast\n",
    "import pandas as pd\n",
    "import numpy as np\n",
    "from urllib.parse import quote_plus\n",
    "import sqlalchemy\n",
    "\n",
    "params = quote_plus(\n",
    "    \"\"\"DRIVER={ODBC Driver 13 for SQL Server};\n",
    "    SERVER=server-dw01.database.windows.net;\n",
    "    DATABASE=DataWarehouseStaging;\n",
    "    UID=dw_userlogin;\n",
    "    PWD=kljDueK!7\"\"\"\n",
    ")\n",
    "\n",
    "ENGINE = sqlalchemy.create_engine(\"mssql+pyodbc:///?odbc_connect=%s\" % params)"
   ]
  },
  {
   "cell_type": "code",
   "execution_count": 8,
   "metadata": {},
   "outputs": [],
   "source": [
    "def yyyymm_to_date(df):\n",
    "    series = df['TransMth']\n",
    "    series = series.astype(str)\n",
    "    yr = series.str[:4]\n",
    "    mth = series.str[4:]\n",
    "    return yr+'-'+mth+'-01'\n",
    "\n",
    "def relative(df, TO):\n",
    "    unpivot_df = df.melt(id_vars = ['com_id_h', 'Account ID', 'Opportunity ID', 'Decision Date', 'First of Decision Month'], var_name = 'vol_month', value_name = 'volume')\n",
    "    if TO == True: #append volumes from SeasonalPayoff too\n",
    "        acc_df = df[['com_id_h', 'Account ID', 'Opportunity ID', 'Decision Date', 'First of Decision Month']]\n",
    "        payoff_df = pd.read_sql('''SELECT * FROM dbo.SeasonalPayoffRaw''', ENGINE)\n",
    "        vol_df = acc_df.merge(payoff_df, how = 'inner', left_on = 'Account ID', right_on = 'AccountId')\n",
    "        vol_df = vol_df[['com_id_h', 'Account ID', 'Opportunity ID', 'Decision Date', 'First of Decision Month', 'TransMth', 'TransAmt']]\n",
    "        vol_df['vol_month'] = yyyymm_to_date(vol_df)\n",
    "        vol_df = vol_df.rename(columns = {'TransAmt':'volume'})\n",
    "        vol_df = vol_df[['com_id_h', 'Account ID', 'Opportunity ID', 'Decision Date', 'First of Decision Month', 'vol_month', 'volume', ]]\n",
    "        unpivot_df = unpivot_df.append(vol_df, ignore_index = True)\n",
    "    unpivot_df['vol_month'] = pd.to_datetime(unpivot_df['vol_month'])\n",
    "    unpivot_df['rel_vol_month'] = ((unpivot_df['vol_month'] - unpivot_df['First of Decision Month'])/np.timedelta64(1, 'M')).round(0).astype(int)\n",
    "    pivot_df = pd.pivot_table(unpivot_df, values = 'volume', index = ['com_id_h', 'Opportunity ID', 'Decision Date', 'First of Decision Month'], columns = 'rel_vol_month')\n",
    "    pivot_df = pivot_df.reset_index()\n",
    "    pivot_df.columns = [str(i) for i in pivot_df.columns]\n",
    "    return pivot_df "
   ]
  },
  {
   "cell_type": "code",
   "execution_count": 5,
   "metadata": {
    "scrolled": true
   },
   "outputs": [],
   "source": [
    "TO_df = pd.read_sql(''' SELECT d.*\n",
    "    ,o.[Account ID]\n",
    "\t,o.[Opportunity ID]\n",
    "\t,o.[Decision Date]\n",
    "\t,dbo.BoM(o.[Decision Date]) AS [First of Decision Month]\n",
    "\n",
    "FROM pam.TO_dataset_dedupe AS d\n",
    "\n",
    "LEFT JOIN pam.MID_dict AS m\n",
    "\tON d.com_id_h = m.com_id_h\n",
    "\n",
    "LEFT JOIN [marketing].[WP_Attri_Mailers] AS t\n",
    "\tON d.com_id_h = t.Hashed_ID\n",
    "\t\tOR m.company_id = t.Company_ID\n",
    "\n",
    "LEFT JOIN Opportunities AS o\n",
    "\tON t.[Opportunity ID] = o.[Opportunity ID]\n",
    "\n",
    "WHERE o.[Decision Date] IS NOT NULL\n",
    "\n",
    "''', ENGINE)"
   ]
  },
  {
   "cell_type": "code",
   "execution_count": 11,
   "metadata": {},
   "outputs": [],
   "source": [
    "TO_df_relative = relative(TO_df, TO = True)"
   ]
  },
  {
   "cell_type": "code",
   "execution_count": 13,
   "metadata": {},
   "outputs": [],
   "source": [
    "to_sql_fast(TO_df_relative, name = 'pam.TO_dataset_relative', engine = ENGINE, if_exists = 'replace')"
   ]
  },
  {
   "cell_type": "code",
   "execution_count": 14,
   "metadata": {},
   "outputs": [],
   "source": [
    "trans_df = pd.read_sql(''' SELECT d.*\n",
    "    ,o.[Account ID]\n",
    "\t,o.[Opportunity ID]\n",
    "\t,o.[Decision Date]\n",
    "\t,dbo.BoM(o.[Decision Date]) AS [First of Decision Month]\n",
    "\n",
    "FROM pam.trans_dataset_dedupe AS d\n",
    "\n",
    "LEFT JOIN pam.MID_dict AS m\n",
    "\tON d.com_id_h = m.com_id_h\n",
    "\n",
    "LEFT JOIN [marketing].[WP_Attri_Mailers] AS t\n",
    "\tON d.com_id_h = t.Hashed_ID\n",
    "\t\tOR m.company_id = t.Company_ID\n",
    "\n",
    "LEFT JOIN Opportunities AS o\n",
    "\tON t.[Opportunity ID] = o.[Opportunity ID]\n",
    "\n",
    "WHERE o.[Decision Date] IS NOT NULL\n",
    "\n",
    "''', ENGINE)"
   ]
  },
  {
   "cell_type": "code",
   "execution_count": 15,
   "metadata": {},
   "outputs": [],
   "source": [
    "trans_df_relative = relative(trans_df, TO = False)"
   ]
  },
  {
   "cell_type": "code",
   "execution_count": 16,
   "metadata": {},
   "outputs": [],
   "source": [
    "to_sql_fast(trans_df_relative, name = 'pam.trans_dataset_relative', engine = ENGINE, if_exists = 'replace')"
   ]
  }
 ],
 "metadata": {
  "kernelspec": {
   "display_name": "Python 3",
   "language": "python",
   "name": "python3"
  },
  "language_info": {
   "codemirror_mode": {
    "name": "ipython",
    "version": 3
   },
   "file_extension": ".py",
   "mimetype": "text/x-python",
   "name": "python",
   "nbconvert_exporter": "python",
   "pygments_lexer": "ipython3",
   "version": "3.6.9"
  }
 },
 "nbformat": 4,
 "nbformat_minor": 2
}
