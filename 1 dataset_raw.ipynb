{
 "cells": [
  {
   "cell_type": "code",
   "execution_count": 1,
   "metadata": {},
   "outputs": [],
   "source": [
    "from fast_to_SQL.fast_to_SQL import to_sql_fast\n",
    "import pandas as pd\n",
    "from pathlib import Path\n",
    "cwd = Path.cwd()\n",
    "data_path = cwd / 'data'\n",
    "\n",
    "from urllib.parse import quote_plus\n",
    "import sqlalchemy\n",
    "\n",
    "params = quote_plus(\n",
    "    \"\"\"DRIVER={ODBC Driver 13 for SQL Server};\n",
    "    SERVER=server-dw01.database.windows.net;\n",
    "    DATABASE=DataWarehouseStaging;\n",
    "    UID=dw_userlogin;\n",
    "    PWD=kljDueK!7\"\"\"\n",
    ")\n",
    "\n",
    "ENGINE = sqlalchemy.create_engine(\"mssql+pyodbc:///?odbc_connect=%s\" % params)\n",
    "\n",
    "table_name = 'pam.dataset_raw'\n",
    "\n",
    "columns = ['com_id_h', 'file_date', 'MCC_DESC', 'tenure_in_months', 'turnover_month_1', 'turnover_month_2',\n",
    "       'turnover_month_3', 'turnover_month_4', 'turnover_month_5',\n",
    "       'turnover_month_6', 'turnover_month_7', 'turnover_month_8',\n",
    "       'turnover_month_9', 'turnover_month_10', 'turnover_month_11',\n",
    "       'turnover_month_12', 'trans_num_month_1', 'trans_num_month_2',\n",
    "       'trans_num_month_3', 'trans_num_month_4', 'trans_num_month_5',\n",
    "       'trans_num_month_6', 'trans_num_month_7', 'trans_num_month_8',\n",
    "       'trans_num_month_9', 'trans_num_month_10', 'trans_num_month_11',\n",
    "       'trans_num_month_12']\n",
    "\n",
    "def volumes_to_dwh(table_name, engine, data_path):\n",
    "    file_list = [f.parts[-1].replace('.csv','') for f in data_path.iterdir() if '01-' in f.parts[-1]]\n",
    "    print('file_list generated')\n",
    "    for i, file_name in enumerate(file_list):\n",
    "        df = pd.read_csv(data_path / f'{file_name}.csv')\n",
    "        print(f'{file_name} found')\n",
    "        df['file_date'] = pd.to_datetime(file_name, dayfirst = True)\n",
    "        df = df[columns]\n",
    "        df = df.drop_duplicates()\n",
    "        print(f'{file_name} altered')\n",
    "        if i == 0:\n",
    "            if_exists = 'replace'\n",
    "        else:\n",
    "            if_exists = 'append'\n",
    "        to_sql_fast(df, name = table_name, engine = ENGINE, if_exists = if_exists)\n",
    "        print(f'{file_name} inserted into dwh')\n",
    "    return 'Upload completed'"
   ]
  },
  {
   "cell_type": "code",
   "execution_count": 2,
   "metadata": {},
   "outputs": [
    {
     "name": "stdout",
     "output_type": "stream",
     "text": [
      "file_list generated\n",
      "01-01-2018 found\n",
      "01-01-2018 altered\n",
      "01-01-2018 inserted into dwh\n",
      "01-01-2019 found\n",
      "01-01-2019 altered\n",
      "01-01-2019 inserted into dwh\n",
      "01-02-2018 found\n",
      "01-02-2018 altered\n",
      "01-02-2018 inserted into dwh\n"
     ]
    },
    {
     "name": "stderr",
     "output_type": "stream",
     "text": [
      "c:\\users\\ryan.skeels\\appdata\\local\\continuum\\anaconda2\\envs\\py36_pam\\lib\\site-packages\\IPython\\core\\interactiveshell.py:3249: DtypeWarning: Columns (5,10,11,18) have mixed types. Specify dtype option on import or set low_memory=False.\n",
      "  if (await self.run_code(code, result,  async_=asy)):\n"
     ]
    },
    {
     "name": "stdout",
     "output_type": "stream",
     "text": [
      "01-02-2019 found\n",
      "01-02-2019 altered\n",
      "01-02-2019 inserted into dwh\n",
      "01-03-2018 found\n",
      "01-03-2018 altered\n",
      "01-03-2018 inserted into dwh\n"
     ]
    },
    {
     "name": "stderr",
     "output_type": "stream",
     "text": [
      "c:\\users\\ryan.skeels\\appdata\\local\\continuum\\anaconda2\\envs\\py36_pam\\lib\\site-packages\\IPython\\core\\interactiveshell.py:3249: DtypeWarning: Columns (0,2,5,10,11,18) have mixed types. Specify dtype option on import or set low_memory=False.\n",
      "  if (await self.run_code(code, result,  async_=asy)):\n"
     ]
    },
    {
     "name": "stdout",
     "output_type": "stream",
     "text": [
      "01-03-2019 found\n",
      "01-03-2019 altered\n",
      "01-03-2019 inserted into dwh\n",
      "01-04-2018 found\n",
      "01-04-2018 altered\n",
      "01-04-2018 inserted into dwh\n",
      "01-04-2019 found\n",
      "01-04-2019 altered\n",
      "01-04-2019 inserted into dwh\n",
      "01-05-2018 found\n",
      "01-05-2018 altered\n",
      "01-05-2018 inserted into dwh\n",
      "01-05-2019 found\n",
      "01-05-2019 altered\n",
      "01-05-2019 inserted into dwh\n",
      "01-06-2018 found\n",
      "01-06-2018 altered\n",
      "01-06-2018 inserted into dwh\n",
      "01-06-2019 found\n",
      "01-06-2019 altered\n",
      "01-06-2019 inserted into dwh\n",
      "01-07-2018 found\n",
      "01-07-2018 altered\n",
      "01-07-2018 inserted into dwh\n",
      "01-07-2019 found\n",
      "01-07-2019 altered\n",
      "01-07-2019 inserted into dwh\n",
      "01-08-2018 found\n",
      "01-08-2018 altered\n",
      "01-08-2018 inserted into dwh\n"
     ]
    },
    {
     "name": "stderr",
     "output_type": "stream",
     "text": [
      "c:\\users\\ryan.skeels\\appdata\\local\\continuum\\anaconda2\\envs\\py36_pam\\lib\\site-packages\\IPython\\core\\interactiveshell.py:3249: DtypeWarning: Columns (6,11,12,19,50) have mixed types. Specify dtype option on import or set low_memory=False.\n",
      "  if (await self.run_code(code, result,  async_=asy)):\n"
     ]
    },
    {
     "name": "stdout",
     "output_type": "stream",
     "text": [
      "01-08-2019 found\n",
      "01-08-2019 altered\n",
      "01-08-2019 inserted into dwh\n",
      "01-09-2018 found\n",
      "01-09-2018 altered\n",
      "01-09-2018 inserted into dwh\n"
     ]
    },
    {
     "name": "stderr",
     "output_type": "stream",
     "text": [
      "c:\\users\\ryan.skeels\\appdata\\local\\continuum\\anaconda2\\envs\\py36_pam\\lib\\site-packages\\IPython\\core\\interactiveshell.py:3249: DtypeWarning: Columns (6,11,12,19,51) have mixed types. Specify dtype option on import or set low_memory=False.\n",
      "  if (await self.run_code(code, result,  async_=asy)):\n"
     ]
    },
    {
     "name": "stdout",
     "output_type": "stream",
     "text": [
      "01-09-2019 found\n",
      "01-09-2019 altered\n",
      "01-09-2019 inserted into dwh\n",
      "01-10-2018 found\n",
      "01-10-2018 altered\n",
      "01-10-2018 inserted into dwh\n",
      "01-10-2019 found\n",
      "01-10-2019 altered\n",
      "01-10-2019 inserted into dwh\n",
      "01-11-2018 found\n",
      "01-11-2018 altered\n",
      "01-11-2018 inserted into dwh\n",
      "01-11-2019 found\n",
      "01-11-2019 altered\n",
      "01-11-2019 inserted into dwh\n",
      "01-12-2018 found\n",
      "01-12-2018 altered\n",
      "01-12-2018 inserted into dwh\n"
     ]
    },
    {
     "data": {
      "text/plain": [
       "'Upload completed'"
      ]
     },
     "execution_count": 2,
     "metadata": {},
     "output_type": "execute_result"
    }
   ],
   "source": [
    "volumes_to_dwh(table_name, ENGINE, data_path)"
   ]
  },
  {
   "cell_type": "code",
   "execution_count": null,
   "metadata": {},
   "outputs": [],
   "source": []
  }
 ],
 "metadata": {
  "kernelspec": {
   "display_name": "Python 3",
   "language": "python",
   "name": "python3"
  },
  "language_info": {
   "codemirror_mode": {
    "name": "ipython",
    "version": 3
   },
   "file_extension": ".py",
   "mimetype": "text/x-python",
   "name": "python",
   "nbconvert_exporter": "python",
   "pygments_lexer": "ipython3",
   "version": "3.6.9"
  }
 },
 "nbformat": 4,
 "nbformat_minor": 2
}
