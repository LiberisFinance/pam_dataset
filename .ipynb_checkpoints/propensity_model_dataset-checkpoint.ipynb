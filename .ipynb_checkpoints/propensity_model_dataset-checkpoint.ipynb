{
 "cells": [
  {
   "cell_type": "code",
   "execution_count": 58,
   "metadata": {},
   "outputs": [],
   "source": [
    "from fast_to_SQL.fast_to_SQL import to_sql_fast\n",
    "import pandas as pd\n",
    "from urllib.parse import quote_plus\n",
    "import sqlalchemy\n",
    "%matplotlib inline\n",
    "\n",
    "params = quote_plus(\n",
    "    \"\"\"DRIVER={ODBC Driver 13 for SQL Server};\n",
    "    SERVER=server-dw01.database.windows.net;\n",
    "    DATABASE=DataWarehouseStaging;\n",
    "    UID=dw_userlogin;\n",
    "    PWD=kljDueK!7\"\"\"\n",
    ")\n",
    "\n",
    "ENGINE = sqlalchemy.create_engine(\"mssql+pyodbc:///?odbc_connect=%s\" % params)"
   ]
  },
  {
   "cell_type": "code",
   "execution_count": 59,
   "metadata": {},
   "outputs": [],
   "source": [
    "month_no_dict = {'jan' : 1,\n",
    "'feb' : 2,\n",
    "'mar' : 3,\n",
    "'apr' : 4,\n",
    "'may' : 5,\n",
    "'jun' : 6,\n",
    "'jul' : 7,\n",
    "'aug' : 8,\n",
    "'sep' : 9,\n",
    "'oct' : 10,\n",
    "'nov' : 11,\n",
    "'dec' : 12\n",
    "}"
   ]
  },
  {
   "cell_type": "code",
   "execution_count": 60,
   "metadata": {},
   "outputs": [],
   "source": [
    "Xer_df = pd.read_sql(''' SELECT * FROM pam.dataset_Xer ''', ENGINE)"
   ]
  },
  {
   "cell_type": "code",
   "execution_count": 61,
   "metadata": {},
   "outputs": [],
   "source": [
    "df = pd.melt(Xer_df, id_vars = ['com_id_h'], var_name = 'month', value_name = 'Xer')"
   ]
  },
  {
   "cell_type": "code",
   "execution_count": 62,
   "metadata": {},
   "outputs": [],
   "source": [
    "df['month_no'] = df['month'].map(month_no_dict)"
   ]
  },
  {
   "cell_type": "code",
   "execution_count": 63,
   "metadata": {},
   "outputs": [],
   "source": [
    "mktg_df = pd.read_sql(''' SELECT [Hashed_ID], [Land_Date], [Opportunity ID], [MCC_Description], t.[Tenure]\n",
    "\t,t.[Average_Turnover]\n",
    "\t,t.[Average_Trans_Count]\n",
    "\t,t.[Times_Marketed_To]\n",
    "\t,t.[True PA or Eligible] AS [Message]\n",
    "    ,t.[Pam_Score]\n",
    "    ,t.[Underwriting Decision]\n",
    "    ,t.[Fund Date]\n",
    "                            FROM [marketing].[WP_Attri_Mailers] AS t\n",
    "                            WHERE Marketed_To = 1''', ENGINE)"
   ]
  },
  {
   "cell_type": "code",
   "execution_count": 64,
   "metadata": {},
   "outputs": [],
   "source": [
    "mktg_df['Land_Date'] = pd.to_datetime(mktg_df['Land_Date'])\n",
    "\n",
    "mktg_df['land_month'] = pd.DatetimeIndex(mktg_df['Land_Date']).month\n",
    "\n",
    "import calendar\n",
    "mktg_df['land_month'] = mktg_df['land_month'].apply(lambda x: calendar.month_abbr[x])\n",
    "\n",
    "mktg_df['land_month'] = mktg_df['land_month'].str.lower()"
   ]
  },
  {
   "cell_type": "code",
   "execution_count": 65,
   "metadata": {},
   "outputs": [],
   "source": [
    "mktg_df['land_month_no'] = mktg_df['land_month'].map(month_no_dict)"
   ]
  },
  {
   "cell_type": "code",
   "execution_count": 66,
   "metadata": {},
   "outputs": [],
   "source": [
    "mktg_df['responded'] = mktg_df['Opportunity ID'].apply(lambda x: 0 if pd.isnull(x) else 1)"
   ]
  },
  {
   "cell_type": "code",
   "execution_count": 67,
   "metadata": {},
   "outputs": [],
   "source": [
    "mktg_df['approved'] = mktg_df['Underwriting Decision'].apply(lambda x: 0 if x == 'Approve' else 1)"
   ]
  },
  {
   "cell_type": "code",
   "execution_count": 68,
   "metadata": {},
   "outputs": [],
   "source": [
    "mktg_df['funded'] = mktg_df['Fund Date'].apply(lambda x: 0 if pd.isnull(x) else 1)"
   ]
  },
  {
   "cell_type": "code",
   "execution_count": 69,
   "metadata": {},
   "outputs": [],
   "source": [
    "final_df = mktg_df.merge(right = df, how = 'left', left_on = ['Hashed_ID','land_month_no'], right_on = ['com_id_h', 'month_no'])"
   ]
  },
  {
   "cell_type": "code",
   "execution_count": 70,
   "metadata": {},
   "outputs": [
    {
     "data": {
      "text/plain": [
       "Index(['Hashed_ID', 'Land_Date', 'Opportunity ID', 'MCC_Description', 'Tenure',\n",
       "       'Average_Turnover', 'Average_Trans_Count', 'Times_Marketed_To',\n",
       "       'Message', 'Pam_Score', 'Underwriting Decision', 'Fund Date',\n",
       "       'land_month', 'land_month_no', 'responded', 'approved', 'funded',\n",
       "       'com_id_h', 'month', 'Xer', 'month_no'],\n",
       "      dtype='object')"
      ]
     },
     "execution_count": 70,
     "metadata": {},
     "output_type": "execute_result"
    }
   ],
   "source": [
    "final_df.columns"
   ]
  },
  {
   "cell_type": "code",
   "execution_count": 71,
   "metadata": {},
   "outputs": [],
   "source": [
    "good_mcc = ['RESTAURANTS (EXCEPT EXPRESS)', 'EXPRESS PAYMNT SRVCE FAST FOOD', 'DRINKING PLACES (ALCOHOLIC)',\n",
    "            'MISCELLANEOUS FOOD STORES', 'WOMENS READY TO WEAR STORES', 'GROCERY STORES SUPERMARKETS', ]\n",
    "\n",
    "bad_mcc = ['AUTOMOTIVE SERVICE SHOPS', 'BUSINESS SERVICES MISC', 'AUTOMOTIVE PARTS ACCESSORIES', 'MEDICAL SERVICES MISC',\n",
    "          'LUMBER & BUILDING MATERIALS', 'DENTISTS ORTHODONTISTS', 'PROFESSIONAL SERVICES', 'JEWELLERY STORES WATCHES CLOCK',\n",
    "          'LEGAL SERVICES ATTORNEYS']"
   ]
  },
  {
   "cell_type": "code",
   "execution_count": 72,
   "metadata": {},
   "outputs": [],
   "source": [
    "def mcc_rating_func(item):\n",
    "    if item in good_mcc:\n",
    "        return 1\n",
    "    elif item in bad_mcc:\n",
    "        return -1\n",
    "    else:\n",
    "        return 0\n",
    "    \n",
    "final_df['mcc_rating'] = final_df['MCC_Description'].apply(mcc_rating_func)"
   ]
  },
  {
   "cell_type": "code",
   "execution_count": 73,
   "metadata": {},
   "outputs": [],
   "source": [
    "industry_dict = {'health/beauty':\n",
    "                ['BARBER & BEAUTY SHOPS', 'HEALTH & BEAUTY SPAS'],\n",
    "                 \n",
    "                'food/drink/hotel':\n",
    "                ['RESTAURANTS (EXCEPT EXPRESS)', 'EXPRESS PAYMNT SRVCE FAST FOOD', 'HOTELS MOTELS & RESORTS-LODGIN',\n",
    "                'DRINKING PLACES (ALCOHOLIC)', 'MISCELLANEOUS FOOD STORES', 'GROCERY STORES SUPERMARKETS',\n",
    "                'PACKAGE STORES-BEER WINE & LIQ', 'CATERERS'],\n",
    "                 \n",
    "                'medical/dental/vets':\n",
    "                 ['MEDICAL SERVICES MISC', 'DENTISTS ORTHODONTISTS', 'OPTICIANS',\n",
    "                 'DRUG STORES & PHARMACIES', 'VETERINARY SERVICES', 'CHIROPRACTORS', 'DOCTORS-NOT ELSEWHERE CLASS.',\n",
    "                 'OSTEOPATHS', 'LAB/DENT/OPTH-HOSP EQPT/SUP(PC', 'CHIROPODISTS', 'NURSING & PERSONAL CARE FACILI',\n",
    "                 'OPTOMETRISTS OPHTHALMOLOGISTS'],\n",
    "                 \n",
    "                'auto':\n",
    "                 ['AUTOMOTIVE SERVICE SHOPS', 'AUTOMOTIVE PARTS ACCESSORIES', 'AUTOMOTIVE BODY REPAIR SHOPS',\n",
    "                 'AUTOMOTIVE TYRE STORES', 'MOTORCYCLE SHOPS & DEALERS', 'BICYCLE SHOPS-SALES & SERVICE',\n",
    "                 'AUTO RENTALS', 'FUEL DEALERS', 'MARINAS MARINE SERVICES & SUPP', 'MOTOR VEHICLE SUP/NEW PTS(P/C)',\n",
    "                 'AUTO AIRCRAFT FARM EQP.', 'BOAT RENTALS & LEASES', 'AUTOMOTIVE PAINT SHOPS', 'TRANSPORTATION SERVICES  MISC',\n",
    "                 'TYRE RETREADING & REPAIR', 'TAXICABS & LIMOUSINES', 'SERVICE STATIONS'],\n",
    "                \n",
    "                'retail':\n",
    "                ['GIFT CARD NOVELTY & SOUVENIR', 'MISCELLANEOUS & SPECIALITY RET', 'WOMENS READY TO WEAR STORES',\n",
    "                'FURNITURE HOME FURNISHING', 'JEWELLERY STORES WATCHES CLOCK', 'PET SHOPS PET FOODS & SUPPLIES',\n",
    "                'SPORTING GOODS STORES', 'FLORISTS', 'HOUSEHOLD APPLIANCE STORES', 'MENS & WOMENS CLOTHING STORES',\n",
    "                'ARTISTS SUPPLY & CRAFT SHOPS', 'MISCELLANEOUS GENERAL MERCHAND', 'GLASS PAINT & WALLPAPER STORES',\n",
    "                'HOBBY TOYS & GAME SHOPS', 'ART DEALERS & GALLERIES', 'STATIONERY OFFICE/SCHOOL STORE',\n",
    "                'ANTIQUE SHOPS-SALES REPAIRS RE', 'CHILDRENS & INFANTS WEAR STORE', 'CIGAR STORES & STANDS',\n",
    "                'SHOE STORES', 'BAKERIES', 'MUSIC STORES INSTRUMENTS PIANO', 'MENS & BOYS CLOTHING & ACSSORS',\n",
    "                'SEWING NEEDLEWORK FABRIC GOODS', 'BOOK SHOPS', 'FAMILY CLOTHING STORES', 'SPORTS APPEREL RIDING APPEREL',\n",
    "                'WOMENS ACCESSORY & SPECIALITY', 'MISCELLANEOUS HOME FURNISHING', 'COSMETIC STORES', 'ELECTRONICS STORES'],\n",
    "                \n",
    "                'professional services':\n",
    "                ['BUSINESS SERVICES MISC', 'PROFESSIONAL SERVICES', 'LEGAL SERVICES ATTORNEYS',\n",
    "                'SCHOOLS & EDUCATIONAL SERVICES', 'ARCHITECTURAL ENGINEERING', 'MISCELLANEOUS PERSONAL SERVICE',\n",
    "                'CHILD CARE SERVICES', 'RECREATION SERVICES', 'FUNERAL SERVICE & CREMATORIES',\n",
    "                'ACCOUNTING AUDITING BOOKEEPING', 'COLLEGES UNIVERSITIES', 'MANAGEMENT CONSULTING & PUBLIC',\n",
    "                'ADVERTISING SERVICES', 'TAILORS SEAMSTRESSES ALTERATNS'],\n",
    "                \n",
    "                'industrial':\n",
    "                ['LUMBER & BUILDING MATERIALS', 'SPECIAL TRADE CONTRACTORS', 'INDUSTRIAL SUP-UNCLASS (P.CRD)',\n",
    "                'NURSERIES LAWN & GARDEN SUPPLY', 'FLOOR COVERING STORES', 'PLUMBING/HEAT-EQUIP/SUP(P.CRD0',\n",
    "                'DRAPERY WINDOWCOVERING & UPHOL', 'ELEC. PARTS/EQUIPMENT (P.CARD)', 'HEATING PLUMBING AIR CONDITION',\n",
    "                'HARDWARE STORES', 'HRDWARE EQUIP/SUPPLIES(P.CARD)', 'GENERAL CONTRACTORS',\n",
    "                'COMMERCIAL EQPT-UNCLASS(P.CRD)', 'CONSTRUCTION MAT-UNCLASS (P/C)', 'ELECTRICAL CONTRACTORS',\n",
    "                'LANDSCAPING & HORTICULTURAL', 'MASONRY STONEWORK PLASTERING', 'ROOFING & SIDING SHEET METAL']}"
   ]
  },
  {
   "cell_type": "code",
   "execution_count": 74,
   "metadata": {},
   "outputs": [],
   "source": [
    "MCC_Desc_list = []\n",
    "industry_list = []\n",
    "for key, value in industry_dict.items():\n",
    "    for desc in value:\n",
    "        MCC_Desc_list.append(desc)\n",
    "        industry_list.append(key)\n",
    "\n",
    "industry_df = pd.DataFrame({'MCC_Description': MCC_Desc_list, 'Industry': industry_list})"
   ]
  },
  {
   "cell_type": "code",
   "execution_count": 75,
   "metadata": {},
   "outputs": [],
   "source": [
    "final_df = final_df.merge(industry_df, 'left', on = 'MCC_Description')"
   ]
  },
  {
   "cell_type": "code",
   "execution_count": 76,
   "metadata": {},
   "outputs": [],
   "source": [
    "final_df['Industry'] = final_df['Industry'].fillna('other')"
   ]
  },
  {
   "cell_type": "code",
   "execution_count": 77,
   "metadata": {},
   "outputs": [],
   "source": [
    "final_df = final_df[['Hashed_ID', 'land_month', 'land_month_no', 'Tenure',\n",
    "       'Average_Turnover', 'Average_Trans_Count', 'Times_Marketed_To',\n",
    "       'Message', 'Xer', 'mcc_rating', 'Pam_Score', 'Industry', 'responded', 'approved', 'funded']]"
   ]
  },
  {
   "cell_type": "code",
   "execution_count": 78,
   "metadata": {},
   "outputs": [],
   "source": [
    "final_df.to_csv('propensity_dataset.csv', index = False)"
   ]
  },
  {
   "cell_type": "code",
   "execution_count": 79,
   "metadata": {},
   "outputs": [],
   "source": [
    "to_sql_fast(final_df, name = 'pam.propensity_dataset', engine = ENGINE, if_exists = 'replace')"
   ]
  },
  {
   "cell_type": "code",
   "execution_count": null,
   "metadata": {},
   "outputs": [],
   "source": []
  }
 ],
 "metadata": {
  "kernelspec": {
   "display_name": "Python 3",
   "language": "python",
   "name": "python3"
  },
  "language_info": {
   "codemirror_mode": {
    "name": "ipython",
    "version": 3
   },
   "file_extension": ".py",
   "mimetype": "text/x-python",
   "name": "python",
   "nbconvert_exporter": "python",
   "pygments_lexer": "ipython3",
   "version": "3.6.9"
  }
 },
 "nbformat": 4,
 "nbformat_minor": 2
}
