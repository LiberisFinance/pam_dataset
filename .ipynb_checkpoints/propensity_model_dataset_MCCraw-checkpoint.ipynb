{
 "cells": [
  {
   "cell_type": "code",
   "execution_count": 19,
   "metadata": {},
   "outputs": [],
   "source": [
    "from fast_to_SQL.fast_to_SQL import to_sql_fast\n",
    "import pandas as pd\n",
    "from urllib.parse import quote_plus\n",
    "import sqlalchemy\n",
    "%matplotlib inline\n",
    "\n",
    "params = quote_plus(\n",
    "    \"\"\"DRIVER={ODBC Driver 13 for SQL Server};\n",
    "    SERVER=server-dw01.database.windows.net;\n",
    "    DATABASE=DataWarehouseStaging;\n",
    "    UID=dw_userlogin;\n",
    "    PWD=kljDueK!7\"\"\"\n",
    ")\n",
    "\n",
    "ENGINE = sqlalchemy.create_engine(\"mssql+pyodbc:///?odbc_connect=%s\" % params)"
   ]
  },
  {
   "cell_type": "code",
   "execution_count": 20,
   "metadata": {},
   "outputs": [],
   "source": [
    "month_no_dict = {'jan' : 1,\n",
    "'feb' : 2,\n",
    "'mar' : 3,\n",
    "'apr' : 4,\n",
    "'may' : 5,\n",
    "'jun' : 6,\n",
    "'jul' : 7,\n",
    "'aug' : 8,\n",
    "'sep' : 9,\n",
    "'oct' : 10,\n",
    "'nov' : 11,\n",
    "'dec' : 12\n",
    "}"
   ]
  },
  {
   "cell_type": "code",
   "execution_count": 21,
   "metadata": {},
   "outputs": [],
   "source": [
    "Xer_df = pd.read_sql(''' SELECT * FROM pam.dataset_Xer ''', ENGINE)"
   ]
  },
  {
   "cell_type": "code",
   "execution_count": 22,
   "metadata": {},
   "outputs": [],
   "source": [
    "df = pd.melt(Xer_df, id_vars = ['com_id_h'], var_name = 'month', value_name = 'Xer')"
   ]
  },
  {
   "cell_type": "code",
   "execution_count": 23,
   "metadata": {},
   "outputs": [],
   "source": [
    "df['month_no'] = df['month'].map(month_no_dict)"
   ]
  },
  {
   "cell_type": "code",
   "execution_count": 24,
   "metadata": {},
   "outputs": [],
   "source": [
    "mktg_df = pd.read_sql(''' SELECT [Hashed_ID], [Land_Date], [Opportunity ID], [MCC_Description], t.[Tenure]\n",
    "\t,t.[Average_Turnover]\n",
    "\t,t.[Average_Trans_Count]\n",
    "\t,t.[Times_Marketed_To]\n",
    "\t,t.[True PA or Eligible] AS [Message]\n",
    "    ,t.[Pam_Score]\n",
    "                            FROM [marketing].[WP_Attri_Mailers] AS t\n",
    "                            WHERE Marketed_To = 1''', ENGINE)"
   ]
  },
  {
   "cell_type": "code",
   "execution_count": 25,
   "metadata": {},
   "outputs": [],
   "source": [
    "mktg_df['Land_Date'] = pd.to_datetime(mktg_df['Land_Date'])\n",
    "\n",
    "mktg_df['land_month'] = pd.DatetimeIndex(mktg_df['Land_Date']).month\n",
    "\n",
    "import calendar\n",
    "mktg_df['land_month'] = mktg_df['land_month'].apply(lambda x: calendar.month_abbr[x])\n",
    "\n",
    "mktg_df['land_month'] = mktg_df['land_month'].str.lower()"
   ]
  },
  {
   "cell_type": "code",
   "execution_count": 26,
   "metadata": {},
   "outputs": [],
   "source": [
    "mktg_df['land_month_no'] = mktg_df['land_month'].map(month_no_dict)"
   ]
  },
  {
   "cell_type": "code",
   "execution_count": 27,
   "metadata": {},
   "outputs": [],
   "source": [
    "mktg_df['responded'] = mktg_df['Opportunity ID'].apply(lambda x: 0 if pd.isnull(x) else 1)"
   ]
  },
  {
   "cell_type": "code",
   "execution_count": 28,
   "metadata": {},
   "outputs": [],
   "source": [
    "final_df = mktg_df.merge(right = df, how = 'left', left_on = ['Hashed_ID','land_month_no'], right_on = ['com_id_h', 'month_no'])"
   ]
  },
  {
   "cell_type": "code",
   "execution_count": 29,
   "metadata": {},
   "outputs": [
    {
     "data": {
      "text/plain": [
       "Index(['Hashed_ID', 'Land_Date', 'Opportunity ID', 'MCC_Description', 'Tenure',\n",
       "       'Average_Turnover', 'Average_Trans_Count', 'Times_Marketed_To',\n",
       "       'Message', 'Pam_Score', 'land_month', 'land_month_no', 'responded',\n",
       "       'com_id_h', 'month', 'Xer', 'month_no'],\n",
       "      dtype='object')"
      ]
     },
     "execution_count": 29,
     "metadata": {},
     "output_type": "execute_result"
    }
   ],
   "source": [
    "final_df.columns"
   ]
  },
  {
   "cell_type": "code",
   "execution_count": 30,
   "metadata": {},
   "outputs": [],
   "source": [
    "good_mcc = ['RESTAURANTS (EXCEPT EXPRESS)', 'EXPRESS PAYMNT SRVCE FAST FOOD', 'DRINKING PLACES (ALCOHOLIC)',\n",
    "            'MISCELLANEOUS FOOD STORES', 'WOMENS READY TO WEAR STORES', 'GROCERY STORES SUPERMARKETS', ]\n",
    "\n",
    "bad_mcc = ['AUTOMOTIVE SERVICE SHOPS', 'BUSINESS SERVICES MISC', 'AUTOMOTIVE PARTS ACCESSORIES', 'MEDICAL SERVICES MISC',\n",
    "          'LUMBER & BUILDING MATERIALS', 'DENTISTS ORTHODONTISTS', 'PROFESSIONAL SERVICES', 'JEWELLERY STORES WATCHES CLOCK',\n",
    "          'LEGAL SERVICES ATTORNEYS']"
   ]
  },
  {
   "cell_type": "code",
   "execution_count": 31,
   "metadata": {},
   "outputs": [],
   "source": [
    "def mcc_rating_func(item):\n",
    "    if item in good_mcc:\n",
    "        return 1\n",
    "    elif item in bad_mcc:\n",
    "        return -1\n",
    "    else:\n",
    "        return 0\n",
    "    \n",
    "final_df['mcc_rating'] = final_df['MCC_Description'].apply(mcc_rating_func)"
   ]
  },
  {
   "cell_type": "code",
   "execution_count": 32,
   "metadata": {},
   "outputs": [],
   "source": [
    "final_df = final_df[['Hashed_ID', 'Tenure',\n",
    "       'Average_Turnover', 'Average_Trans_Count', 'Times_Marketed_To',\n",
    "       'Message', 'Xer', 'mcc_rating', 'Pam_Score', 'responded']]"
   ]
  },
  {
   "cell_type": "code",
   "execution_count": 33,
   "metadata": {},
   "outputs": [],
   "source": [
    "to_sql_fast(final_df, name = 'pam.propensity_dataset', engine = ENGINE, if_exists = 'replace')"
   ]
  },
  {
   "cell_type": "code",
   "execution_count": 34,
   "metadata": {},
   "outputs": [],
   "source": [
    "final_df.to_csv('propensity_dataset.csv', index = False)"
   ]
  },
  {
   "cell_type": "code",
   "execution_count": null,
   "metadata": {},
   "outputs": [],
   "source": []
  }
 ],
 "metadata": {
  "kernelspec": {
   "display_name": "Python 3",
   "language": "python",
   "name": "python3"
  },
  "language_info": {
   "codemirror_mode": {
    "name": "ipython",
    "version": 3
   },
   "file_extension": ".py",
   "mimetype": "text/x-python",
   "name": "python",
   "nbconvert_exporter": "python",
   "pygments_lexer": "ipython3",
   "version": "3.6.9"
  }
 },
 "nbformat": 4,
 "nbformat_minor": 2
}
