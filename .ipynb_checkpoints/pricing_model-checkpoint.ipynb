{
 "cells": [
  {
   "cell_type": "code",
   "execution_count": 108,
   "metadata": {},
   "outputs": [],
   "source": [
    "from fast_to_SQL.fast_to_SQL import to_sql_fast\n",
    "import pandas as pd\n",
    "import numpy as np\n",
    "from urllib.parse import quote_plus\n",
    "import sqlalchemy\n",
    "\n",
    "params = quote_plus(\n",
    "    \"\"\"DRIVER={ODBC Driver 13 for SQL Server};\n",
    "    SERVER=server-dw01.database.windows.net;\n",
    "    DATABASE=DataWarehouseStaging;\n",
    "    UID=dw_userlogin;\n",
    "    PWD=kljDueK!7\"\"\"\n",
    ")\n",
    "\n",
    "ENGINE = sqlalchemy.create_engine(\"mssql+pyodbc:///?odbc_connect=%s\" % params)"
   ]
  },
  {
   "cell_type": "code",
   "execution_count": 109,
   "metadata": {},
   "outputs": [],
   "source": [
    "df = pd.read_sql('''SELECT d.[factorRate]\n",
    "\t,d.[monthsToPayback]\n",
    "\t,d.[split]\n",
    "\t,d.[averageMonthlyVolume] / d.amountRequested AS [multiple]\n",
    "\t,c.[Written Off]\n",
    "\n",
    "FROM [dbo].[Prices] AS p\n",
    "\n",
    "LEFT JOIN PriceDetails AS d\n",
    "\tON p._id = d._id\n",
    "\n",
    "LEFT JOIN Applications AS a\n",
    "\tON a.[applicationKey] = p.[applicationId]\n",
    "\n",
    "LEFT JOIN Opportunities AS o\n",
    "\tON o.[application ID] = a.[applicationKey]\n",
    "\n",
    "LEFT JOIN Contracts AS c\n",
    "\tON o.[Opportunity ID] = c.[Original Opportunity ID]\n",
    "\n",
    "WHERE CASE \n",
    "\t\tWHEN PriceDetail_idx = (\n",
    "\t\t\t\tSELECT MAX(PriceDetail_idx)\n",
    "\t\t\t\t\n",
    "\t\t\t\tFROM PriceDetails AS exc\n",
    "\t\t\t\t\n",
    "\t\t\t\tWHERE exc._id = d._id\n",
    "\t\t\t\t)\n",
    "\t\t\tTHEN 1\n",
    "\t\tELSE 0\n",
    "\t\tEND = 1\n",
    "\tAND (\n",
    "\t\tc.[Contract End Date] IS NOT NULL\n",
    "\t\tOR c.[Written Off] = 1\n",
    "\t\t)\n",
    "\n",
    "''', ENGINE)"
   ]
  },
  {
   "cell_type": "code",
   "execution_count": 110,
   "metadata": {},
   "outputs": [],
   "source": [
    "df[['factorRate', 'monthsToPayback', 'split', 'multiple']] = df[['factorRate', 'monthsToPayback', 'split', 'multiple']].astype('float64')"
   ]
  },
  {
   "cell_type": "code",
   "execution_count": 175,
   "metadata": {},
   "outputs": [
    {
     "data": {
      "text/plain": [
       "<matplotlib.axes._subplots.AxesSubplot at 0x255f775f438>"
      ]
     },
     "execution_count": 175,
     "metadata": {},
     "output_type": "execute_result"
    },
    {
     "data": {
      "image/png": "[encoded data removed]",
      "text/plain": [
       "<Figure size 432x288 with 1 Axes>"
      ]
     },
     "metadata": {
      "needs_background": "light"
     },
     "output_type": "display_data"
    }
   ],
   "source": [
    "df.groupby(pd.qcut(df['multiple'], 5, labels = False, duplicates = 'drop'))['Written Off'].mean().plot()"
   ]
  },
  {
   "cell_type": "code",
   "execution_count": 139,
   "metadata": {},
   "outputs": [],
   "source": [
    "feature_list = ['monthsToPayback', 'split', 'multiple']"
   ]
  },
  {
   "cell_type": "code",
   "execution_count": 141,
   "metadata": {},
   "outputs": [],
   "source": [
    "#remove outcome from features\n",
    "y = df['Written Off']\n",
    "X = df[feature_list]"
   ]
  },
  {
   "cell_type": "code",
   "execution_count": 142,
   "metadata": {},
   "outputs": [
    {
     "data": {
      "text/plain": [
       "['monthsToPayback', 'split', 'multiple']"
      ]
     },
     "execution_count": 142,
     "metadata": {},
     "output_type": "execute_result"
    }
   ],
   "source": [
    "feature_list"
   ]
  },
  {
   "cell_type": "code",
   "execution_count": 143,
   "metadata": {},
   "outputs": [],
   "source": [
    "from sklearn.preprocessing import StandardScaler\n",
    "scaler = StandardScaler()\n",
    "\n",
    "X = pd.DataFrame(scaler.fit_transform(X, y), columns = X.columns)"
   ]
  },
  {
   "cell_type": "code",
   "execution_count": 144,
   "metadata": {},
   "outputs": [],
   "source": [
    "from sklearn.model_selection import train_test_split\n",
    "X_train, X_test, y_train, y_test = train_test_split(X, y, test_size=0.3, random_state=42, stratify = y)"
   ]
  },
  {
   "cell_type": "code",
   "execution_count": 145,
   "metadata": {},
   "outputs": [
    {
     "data": {
      "text/plain": [
       "7.300632911392406"
      ]
     },
     "execution_count": 145,
     "metadata": {},
     "output_type": "execute_result"
    }
   ],
   "source": [
    "weight = 1/y_train.mean()\n",
    "weight"
   ]
  },
  {
   "cell_type": "code",
   "execution_count": 146,
   "metadata": {},
   "outputs": [],
   "source": [
    "import xgboost as xgb\n",
    "xgbc = xgb.XGBClassifier(objective ='binary:logistic', colsample_bytree = 0.3, learning_rate = 0.2,\n",
    "                max_depth = 5, alpha = 10, n_estimators = 50, scale_pos_weight = weight, n_jobs = -1)"
   ]
  },
  {
   "cell_type": "code",
   "execution_count": 147,
   "metadata": {},
   "outputs": [
    {
     "data": {
      "text/plain": [
       "XGBClassifier(alpha=10, base_score=0.5, booster='gbtree', colsample_bylevel=1,\n",
       "              colsample_bynode=1, colsample_bytree=0.3, gamma=0,\n",
       "              learning_rate=0.2, max_delta_step=0, max_depth=5,\n",
       "              min_child_weight=1, missing=None, n_estimators=50, n_jobs=-1,\n",
       "              nthread=None, objective='binary:logistic', random_state=0,\n",
       "              reg_alpha=0, reg_lambda=1, scale_pos_weight=7.300632911392406,\n",
       "              seed=None, silent=None, subsample=1, verbosity=1)"
      ]
     },
     "execution_count": 147,
     "metadata": {},
     "output_type": "execute_result"
    }
   ],
   "source": [
    "xgbc.fit(X_train, y_train)"
   ]
  },
  {
   "cell_type": "code",
   "execution_count": 148,
   "metadata": {},
   "outputs": [],
   "source": [
    "preds = xgbc.predict_proba(X_test)[:,1]"
   ]
  },
  {
   "cell_type": "code",
   "execution_count": 149,
   "metadata": {},
   "outputs": [
    {
     "name": "stdout",
     "output_type": "stream",
     "text": [
      "ROC AUC Score = 0.532848169807234\n",
      "Gini = 0.06569633961446808\n"
     ]
    }
   ],
   "source": [
    "from sklearn.metrics import roc_auc_score\n",
    "def gini(roc_auc_score):\n",
    "    return roc_auc_score*2-1\n",
    "\n",
    "roc_auc = roc_auc_score(y_test, preds)\n",
    "print(f'ROC AUC Score = {roc_auc}')\n",
    "print(f'Gini = {gini(roc_auc)}')"
   ]
  },
  {
   "cell_type": "code",
   "execution_count": 150,
   "metadata": {},
   "outputs": [],
   "source": [
    "from sklearn.model_selection import RandomizedSearchCV, GridSearchCV\n",
    "rdm_params = {\n",
    "        'min_child_weight': [5, 10, 20, 30, 40],\n",
    "        'gamma': [0.5, 1, 1.5, 2],\n",
    "        'subsample': [0.4, 0.6, 0.8, 1.0],\n",
    "        'colsample_bytree': [0.6, 0.8, 1.0],\n",
    "        'max_depth': [1, 2, 3, 4, 5],\n",
    "        'n_estimators': [20, 30, 50]\n",
    "        }"
   ]
  },
  {
   "cell_type": "code",
   "execution_count": 151,
   "metadata": {},
   "outputs": [],
   "source": [
    "rdm_search = RandomizedSearchCV(xgbc, param_distributions = rdm_params, n_iter = 200,\n",
    "                                scoring = 'roc_auc', n_jobs = -1, cv = 5, verbose = 10, random_state = 42)"
   ]
  },
  {
   "cell_type": "code",
   "execution_count": 152,
   "metadata": {},
   "outputs": [
    {
     "name": "stdout",
     "output_type": "stream",
     "text": [
      "Fitting 5 folds for each of 200 candidates, totalling 1000 fits\n"
     ]
    },
    {
     "name": "stderr",
     "output_type": "stream",
     "text": [
      "[Parallel(n_jobs=-1)]: Using backend LokyBackend with 4 concurrent workers.\n",
      "[Parallel(n_jobs=-1)]: Done   5 tasks      | elapsed:   14.1s\n",
      "[Parallel(n_jobs=-1)]: Done  10 tasks      | elapsed:   14.2s\n",
      "[Parallel(n_jobs=-1)]: Done  17 tasks      | elapsed:   14.7s\n",
      "[Parallel(n_jobs=-1)]: Done  24 tasks      | elapsed:   15.0s\n",
      "[Parallel(n_jobs=-1)]: Done  33 tasks      | elapsed:   15.3s\n",
      "[Parallel(n_jobs=-1)]: Batch computation too fast (0.1933s.) Setting batch_size=2.\n",
      "[Parallel(n_jobs=-1)]: Done  42 tasks      | elapsed:   15.5s\n",
      "[Parallel(n_jobs=-1)]: Done  58 tasks      | elapsed:   15.8s\n",
      "[Parallel(n_jobs=-1)]: Done  80 tasks      | elapsed:   16.2s\n",
      "[Parallel(n_jobs=-1)]: Done 106 tasks      | elapsed:   16.8s\n",
      "[Parallel(n_jobs=-1)]: Done 132 tasks      | elapsed:   17.4s\n",
      "[Parallel(n_jobs=-1)]: Done 162 tasks      | elapsed:   18.2s\n",
      "[Parallel(n_jobs=-1)]: Done 192 tasks      | elapsed:   18.7s\n",
      "[Parallel(n_jobs=-1)]: Done 226 tasks      | elapsed:   19.6s\n",
      "[Parallel(n_jobs=-1)]: Done 260 tasks      | elapsed:   20.5s\n",
      "[Parallel(n_jobs=-1)]: Done 298 tasks      | elapsed:   21.5s\n",
      "[Parallel(n_jobs=-1)]: Done 336 tasks      | elapsed:   22.5s\n",
      "[Parallel(n_jobs=-1)]: Done 378 tasks      | elapsed:   24.0s\n",
      "[Parallel(n_jobs=-1)]: Done 420 tasks      | elapsed:   25.3s\n",
      "[Parallel(n_jobs=-1)]: Done 466 tasks      | elapsed:   26.7s\n",
      "[Parallel(n_jobs=-1)]: Done 512 tasks      | elapsed:   28.0s\n",
      "[Parallel(n_jobs=-1)]: Done 562 tasks      | elapsed:   29.3s\n",
      "[Parallel(n_jobs=-1)]: Done 612 tasks      | elapsed:   30.6s\n",
      "[Parallel(n_jobs=-1)]: Done 666 tasks      | elapsed:   32.2s\n",
      "[Parallel(n_jobs=-1)]: Done 720 tasks      | elapsed:   33.8s\n",
      "[Parallel(n_jobs=-1)]: Done 778 tasks      | elapsed:   36.0s\n",
      "[Parallel(n_jobs=-1)]: Done 836 tasks      | elapsed:   38.2s\n",
      "[Parallel(n_jobs=-1)]: Done 898 tasks      | elapsed:   40.3s\n",
      "[Parallel(n_jobs=-1)]: Done 960 tasks      | elapsed:   42.0s\n",
      "[Parallel(n_jobs=-1)]: Done 1000 out of 1000 | elapsed:   42.9s finished\n"
     ]
    },
    {
     "data": {
      "text/plain": [
       "RandomizedSearchCV(cv=5, error_score='raise-deprecating',\n",
       "                   estimator=XGBClassifier(alpha=10, base_score=0.5,\n",
       "                                           booster='gbtree',\n",
       "                                           colsample_bylevel=1,\n",
       "                                           colsample_bynode=1,\n",
       "                                           colsample_bytree=0.3, gamma=0,\n",
       "                                           learning_rate=0.2, max_delta_step=0,\n",
       "                                           max_depth=5, min_child_weight=1,\n",
       "                                           missing=None, n_estimators=50,\n",
       "                                           n_jobs=-1, nthread=None,\n",
       "                                           objective='binary:logistic',\n",
       "                                           random_state=0,...\n",
       "                                           seed=None, silent=None, subsample=1,\n",
       "                                           verbosity=1),\n",
       "                   iid='warn', n_iter=200, n_jobs=-1,\n",
       "                   param_distributions={'colsample_bytree': [0.6, 0.8, 1.0],\n",
       "                                        'gamma': [0.5, 1, 1.5, 2],\n",
       "                                        'max_depth': [1, 2, 3, 4, 5],\n",
       "                                        'min_child_weight': [5, 10, 20, 30, 40],\n",
       "                                        'n_estimators': [20, 30, 50],\n",
       "                                        'subsample': [0.4, 0.6, 0.8, 1.0]},\n",
       "                   pre_dispatch='2*n_jobs', random_state=42, refit=True,\n",
       "                   return_train_score=False, scoring='roc_auc', verbose=10)"
      ]
     },
     "execution_count": 152,
     "metadata": {},
     "output_type": "execute_result"
    }
   ],
   "source": [
    "rdm_search.fit(X_train, y_train)"
   ]
  },
  {
   "cell_type": "code",
   "execution_count": 153,
   "metadata": {},
   "outputs": [
    {
     "data": {
      "text/plain": [
       "{'subsample': 0.8,\n",
       " 'n_estimators': 30,\n",
       " 'min_child_weight': 30,\n",
       " 'max_depth': 3,\n",
       " 'gamma': 0.5,\n",
       " 'colsample_bytree': 1.0}"
      ]
     },
     "execution_count": 153,
     "metadata": {},
     "output_type": "execute_result"
    }
   ],
   "source": [
    "rdm_search.best_params_"
   ]
  },
  {
   "cell_type": "code",
   "execution_count": 154,
   "metadata": {},
   "outputs": [],
   "source": [
    "xgbc_rdm = rdm_search.best_estimator_\n",
    "xgbc_rdm.fit(X_train, y_train)\n",
    "rdm_preds = xgbc_rdm.predict_proba(X_test)[:,1]"
   ]
  },
  {
   "cell_type": "code",
   "execution_count": 155,
   "metadata": {},
   "outputs": [
    {
     "name": "stdout",
     "output_type": "stream",
     "text": [
      "ROC AUC Score = 0.5499198613818497\n",
      "Gini = 0.09983972276369935\n"
     ]
    }
   ],
   "source": [
    "rdm_roc_auc = roc_auc_score(y_test, rdm_preds)\n",
    "print(f'ROC AUC Score = {rdm_roc_auc}')\n",
    "print(f'Gini = {gini(rdm_roc_auc)}')"
   ]
  },
  {
   "cell_type": "code",
   "execution_count": 165,
   "metadata": {},
   "outputs": [],
   "source": [
    "test_df = pd.DataFrame(y_test).merge(df[feature_list], how = 'left', left_index = True, right_index = True)\n",
    "test_df['pred'] = rdm_preds"
   ]
  },
  {
   "cell_type": "code",
   "execution_count": 166,
   "metadata": {},
   "outputs": [],
   "source": [
    "test_df['pred_pentile'] = pd.qcut(test_df['pred'], 5, labels = False, duplicates = 'drop')"
   ]
  },
  {
   "cell_type": "code",
   "execution_count": 170,
   "metadata": {},
   "outputs": [
    {
     "data": {
      "image/png": "[encoded data removed]",
      "text/plain": [
       "<Figure size 432x288 with 1 Axes>"
      ]
     },
     "metadata": {
      "needs_background": "light"
     },
     "output_type": "display_data"
    }
   ],
   "source": [
    "import matplotlib.pyplot as plt\n",
    "plt.plot(test_df.groupby('pred_pentile')['Written Off'].mean())\n",
    "plt.axhline(test_df['Written Off'].mean(), color = 'orange', dashes = [2, 2])\n",
    "plt.xticks(np.arange(0,5))\n",
    "plt.xlabel('Pentile')\n",
    "plt.ylabel('WO rate')\n",
    "font = {'family': 'sans-serif',\n",
    "        'color':  'black',\n",
    "        'weight': 'normal',\n",
    "        'size': 16,\n",
    "        }\n",
    "#plt.text(x = 1.5, y = 0.2, s= 'Gini = 0.24', fontdict = font)"
   ]
  },
  {
   "cell_type": "code",
   "execution_count": 168,
   "metadata": {},
   "outputs": [
    {
     "data": {
      "text/plain": [
       "pred_pentile\n",
       "0    1.736914\n",
       "1    1.095742\n",
       "2    0.993969\n",
       "3    0.961264\n",
       "4    0.943257\n",
       "Name: multiple, dtype: float64"
      ]
     },
     "execution_count": 168,
     "metadata": {},
     "output_type": "execute_result"
    }
   ],
   "source": [
    "test_df.groupby('pred_pentile')['multiple'].mean()"
   ]
  },
  {
   "cell_type": "code",
   "execution_count": 169,
   "metadata": {
    "scrolled": true
   },
   "outputs": [
    {
     "data": {
      "text/plain": [
       "Written Off          int64\n",
       "monthsToPayback    float64\n",
       "split              float64\n",
       "multiple           float64\n",
       "pred               float32\n",
       "pred_pentile         int64\n",
       "dtype: object"
      ]
     },
     "execution_count": 169,
     "metadata": {},
     "output_type": "execute_result"
    }
   ],
   "source": [
    "test_df.dtypes"
   ]
  },
  {
   "cell_type": "code",
   "execution_count": 164,
   "metadata": {},
   "outputs": [
    {
     "data": {
      "text/html": [
       "<div>\n",
       "<style scoped>\n",
       "    .dataframe tbody tr th:only-of-type {\n",
       "        vertical-align: middle;\n",
       "    }\n",
       "\n",
       "    .dataframe tbody tr th {\n",
       "        vertical-align: top;\n",
       "    }\n",
       "\n",
       "    .dataframe thead th {\n",
       "        text-align: right;\n",
       "    }\n",
       "</style>\n",
       "<table border=\"1\" class=\"dataframe\">\n",
       "  <thead>\n",
       "    <tr style=\"text-align: right;\">\n",
       "      <th></th>\n",
       "      <th>monthsToPayback</th>\n",
       "      <th>split</th>\n",
       "      <th>multiple</th>\n",
       "    </tr>\n",
       "  </thead>\n",
       "  <tbody>\n",
       "    <tr>\n",
       "      <td>2286</td>\n",
       "      <td>0.285507</td>\n",
       "      <td>-1.675247</td>\n",
       "      <td>0.724653</td>\n",
       "    </tr>\n",
       "    <tr>\n",
       "      <td>2698</td>\n",
       "      <td>0.643003</td>\n",
       "      <td>0.475567</td>\n",
       "      <td>-0.645316</td>\n",
       "    </tr>\n",
       "    <tr>\n",
       "      <td>1229</td>\n",
       "      <td>1.367281</td>\n",
       "      <td>-1.460166</td>\n",
       "      <td>-0.162524</td>\n",
       "    </tr>\n",
       "    <tr>\n",
       "      <td>2073</td>\n",
       "      <td>0.271578</td>\n",
       "      <td>0.475567</td>\n",
       "      <td>-0.571316</td>\n",
       "    </tr>\n",
       "    <tr>\n",
       "      <td>1266</td>\n",
       "      <td>-1.455547</td>\n",
       "      <td>0.260485</td>\n",
       "      <td>0.498154</td>\n",
       "    </tr>\n",
       "    <tr>\n",
       "      <td>...</td>\n",
       "      <td>...</td>\n",
       "      <td>...</td>\n",
       "      <td>...</td>\n",
       "    </tr>\n",
       "    <tr>\n",
       "      <td>683</td>\n",
       "      <td>1.747992</td>\n",
       "      <td>0.475567</td>\n",
       "      <td>-0.744411</td>\n",
       "    </tr>\n",
       "    <tr>\n",
       "      <td>213</td>\n",
       "      <td>1.283711</td>\n",
       "      <td>-1.675247</td>\n",
       "      <td>0.039664</td>\n",
       "    </tr>\n",
       "    <tr>\n",
       "      <td>553</td>\n",
       "      <td>-0.573413</td>\n",
       "      <td>0.690648</td>\n",
       "      <td>-0.165237</td>\n",
       "    </tr>\n",
       "    <tr>\n",
       "      <td>2598</td>\n",
       "      <td>0.002295</td>\n",
       "      <td>-1.675247</td>\n",
       "      <td>0.803160</td>\n",
       "    </tr>\n",
       "    <tr>\n",
       "      <td>1727</td>\n",
       "      <td>0.810144</td>\n",
       "      <td>0.475567</td>\n",
       "      <td>-0.687945</td>\n",
       "    </tr>\n",
       "  </tbody>\n",
       "</table>\n",
       "<p>2307 rows × 3 columns</p>\n",
       "</div>"
      ],
      "text/plain": [
       "      monthsToPayback     split  multiple\n",
       "2286         0.285507 -1.675247  0.724653\n",
       "2698         0.643003  0.475567 -0.645316\n",
       "1229         1.367281 -1.460166 -0.162524\n",
       "2073         0.271578  0.475567 -0.571316\n",
       "1266        -1.455547  0.260485  0.498154\n",
       "...               ...       ...       ...\n",
       "683          1.747992  0.475567 -0.744411\n",
       "213          1.283711 -1.675247  0.039664\n",
       "553         -0.573413  0.690648 -0.165237\n",
       "2598         0.002295 -1.675247  0.803160\n",
       "1727         0.810144  0.475567 -0.687945\n",
       "\n",
       "[2307 rows x 3 columns]"
      ]
     },
     "execution_count": 164,
     "metadata": {},
     "output_type": "execute_result"
    }
   ],
   "source": [
    "X_train"
   ]
  },
  {
   "cell_type": "code",
   "execution_count": null,
   "metadata": {},
   "outputs": [],
   "source": []
  }
 ],
 "metadata": {
  "kernelspec": {
   "display_name": "Python 3",
   "language": "python",
   "name": "python3"
  },
  "language_info": {
   "codemirror_mode": {
    "name": "ipython",
    "version": 3
   },
   "file_extension": ".py",
   "mimetype": "text/x-python",
   "name": "python",
   "nbconvert_exporter": "python",
   "pygments_lexer": "ipython3",
   "version": "3.6.9"
  }
 },
 "nbformat": 4,
 "nbformat_minor": 2
}
