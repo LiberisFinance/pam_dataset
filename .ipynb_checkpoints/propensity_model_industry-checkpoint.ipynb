{
 "cells": [
  {
   "cell_type": "code",
   "execution_count": 1,
   "metadata": {},
   "outputs": [],
   "source": [
    "import pandas as pd\n",
    "import numpy as np\n",
    "\n",
    "%matplotlib inline"
   ]
  },
  {
   "cell_type": "code",
   "execution_count": 96,
   "metadata": {},
   "outputs": [],
   "source": [
    "df = pd.read_csv('propensity_dataset_MCCraw.csv')"
   ]
  },
  {
   "cell_type": "code",
   "execution_count": 97,
   "metadata": {},
   "outputs": [],
   "source": [
    "MCC_df = df.groupby('MCC_Description').agg({'responded': ['count', 'mean']}).sort_values(('responded', 'count'), ascending = False)"
   ]
  },
  {
   "cell_type": "code",
   "execution_count": 98,
   "metadata": {},
   "outputs": [
    {
     "ename": "PermissionError",
     "evalue": "[Errno 13] Permission denied: 'MCC_count.csv'",
     "output_type": "error",
     "traceback": [
      "\u001b[1;31m---------------------------------------------------------------------------\u001b[0m",
      "\u001b[1;31mPermissionError\u001b[0m                           Traceback (most recent call last)",
      "\u001b[1;32m<ipython-input-98-c39fcf1b5d73>\u001b[0m in \u001b[0;36m<module>\u001b[1;34m\u001b[0m\n\u001b[1;32m----> 1\u001b[1;33m \u001b[0mMCC_df\u001b[0m\u001b[1;33m.\u001b[0m\u001b[0mto_csv\u001b[0m\u001b[1;33m(\u001b[0m\u001b[1;34m'MCC_count.csv'\u001b[0m\u001b[1;33m,\u001b[0m \u001b[0mindex\u001b[0m \u001b[1;33m=\u001b[0m \u001b[1;32mTrue\u001b[0m\u001b[1;33m)\u001b[0m\u001b[1;33m\u001b[0m\u001b[1;33m\u001b[0m\u001b[0m\n\u001b[0m\u001b[0;32m      2\u001b[0m \u001b[0mMCC_needed\u001b[0m \u001b[1;33m=\u001b[0m \u001b[1;36m100\u001b[0m\u001b[1;33m\u001b[0m\u001b[1;33m\u001b[0m\u001b[0m\n",
      "\u001b[1;32mc:\\users\\ryan.skeels\\appdata\\local\\continuum\\anaconda2\\envs\\py36_pam\\lib\\site-packages\\pandas\\core\\generic.py\u001b[0m in \u001b[0;36mto_csv\u001b[1;34m(self, path_or_buf, sep, na_rep, float_format, columns, header, index, index_label, mode, encoding, compression, quoting, quotechar, line_terminator, chunksize, date_format, doublequote, escapechar, decimal)\u001b[0m\n\u001b[0;32m   3226\u001b[0m             \u001b[0mdecimal\u001b[0m\u001b[1;33m=\u001b[0m\u001b[0mdecimal\u001b[0m\u001b[1;33m,\u001b[0m\u001b[1;33m\u001b[0m\u001b[1;33m\u001b[0m\u001b[0m\n\u001b[0;32m   3227\u001b[0m         )\n\u001b[1;32m-> 3228\u001b[1;33m         \u001b[0mformatter\u001b[0m\u001b[1;33m.\u001b[0m\u001b[0msave\u001b[0m\u001b[1;33m(\u001b[0m\u001b[1;33m)\u001b[0m\u001b[1;33m\u001b[0m\u001b[1;33m\u001b[0m\u001b[0m\n\u001b[0m\u001b[0;32m   3229\u001b[0m \u001b[1;33m\u001b[0m\u001b[0m\n\u001b[0;32m   3230\u001b[0m         \u001b[1;32mif\u001b[0m \u001b[0mpath_or_buf\u001b[0m \u001b[1;32mis\u001b[0m \u001b[1;32mNone\u001b[0m\u001b[1;33m:\u001b[0m\u001b[1;33m\u001b[0m\u001b[1;33m\u001b[0m\u001b[0m\n",
      "\u001b[1;32mc:\\users\\ryan.skeels\\appdata\\local\\continuum\\anaconda2\\envs\\py36_pam\\lib\\site-packages\\pandas\\io\\formats\\csvs.py\u001b[0m in \u001b[0;36msave\u001b[1;34m(self)\u001b[0m\n\u001b[0;32m    181\u001b[0m                 \u001b[0mself\u001b[0m\u001b[1;33m.\u001b[0m\u001b[0mmode\u001b[0m\u001b[1;33m,\u001b[0m\u001b[1;33m\u001b[0m\u001b[1;33m\u001b[0m\u001b[0m\n\u001b[0;32m    182\u001b[0m                 \u001b[0mencoding\u001b[0m\u001b[1;33m=\u001b[0m\u001b[0mself\u001b[0m\u001b[1;33m.\u001b[0m\u001b[0mencoding\u001b[0m\u001b[1;33m,\u001b[0m\u001b[1;33m\u001b[0m\u001b[1;33m\u001b[0m\u001b[0m\n\u001b[1;32m--> 183\u001b[1;33m                 \u001b[0mcompression\u001b[0m\u001b[1;33m=\u001b[0m\u001b[0mself\u001b[0m\u001b[1;33m.\u001b[0m\u001b[0mcompression\u001b[0m\u001b[1;33m,\u001b[0m\u001b[1;33m\u001b[0m\u001b[1;33m\u001b[0m\u001b[0m\n\u001b[0m\u001b[0;32m    184\u001b[0m             )\n\u001b[0;32m    185\u001b[0m             \u001b[0mclose\u001b[0m \u001b[1;33m=\u001b[0m \u001b[1;32mTrue\u001b[0m\u001b[1;33m\u001b[0m\u001b[1;33m\u001b[0m\u001b[0m\n",
      "\u001b[1;32mc:\\users\\ryan.skeels\\appdata\\local\\continuum\\anaconda2\\envs\\py36_pam\\lib\\site-packages\\pandas\\io\\common.py\u001b[0m in \u001b[0;36m_get_handle\u001b[1;34m(path_or_buf, mode, encoding, compression, memory_map, is_text)\u001b[0m\n\u001b[0;32m    397\u001b[0m         \u001b[1;32mif\u001b[0m \u001b[0mencoding\u001b[0m\u001b[1;33m:\u001b[0m\u001b[1;33m\u001b[0m\u001b[1;33m\u001b[0m\u001b[0m\n\u001b[0;32m    398\u001b[0m             \u001b[1;31m# Encoding\u001b[0m\u001b[1;33m\u001b[0m\u001b[1;33m\u001b[0m\u001b[1;33m\u001b[0m\u001b[0m\n\u001b[1;32m--> 399\u001b[1;33m             \u001b[0mf\u001b[0m \u001b[1;33m=\u001b[0m \u001b[0mopen\u001b[0m\u001b[1;33m(\u001b[0m\u001b[0mpath_or_buf\u001b[0m\u001b[1;33m,\u001b[0m \u001b[0mmode\u001b[0m\u001b[1;33m,\u001b[0m \u001b[0mencoding\u001b[0m\u001b[1;33m=\u001b[0m\u001b[0mencoding\u001b[0m\u001b[1;33m,\u001b[0m \u001b[0mnewline\u001b[0m\u001b[1;33m=\u001b[0m\u001b[1;34m\"\"\u001b[0m\u001b[1;33m)\u001b[0m\u001b[1;33m\u001b[0m\u001b[1;33m\u001b[0m\u001b[0m\n\u001b[0m\u001b[0;32m    400\u001b[0m         \u001b[1;32melif\u001b[0m \u001b[0mis_text\u001b[0m\u001b[1;33m:\u001b[0m\u001b[1;33m\u001b[0m\u001b[1;33m\u001b[0m\u001b[0m\n\u001b[0;32m    401\u001b[0m             \u001b[1;31m# No explicit encoding\u001b[0m\u001b[1;33m\u001b[0m\u001b[1;33m\u001b[0m\u001b[1;33m\u001b[0m\u001b[0m\n",
      "\u001b[1;31mPermissionError\u001b[0m: [Errno 13] Permission denied: 'MCC_count.csv'"
     ]
    }
   ],
   "source": [
    "MCC_df.to_csv('MCC_count.csv', index = True)\n",
    "MCC_needed = 100"
   ]
  },
  {
   "cell_type": "code",
   "execution_count": null,
   "metadata": {},
   "outputs": [],
   "source": [
    "MCC_df.head(MCC_needed)"
   ]
  },
  {
   "cell_type": "code",
   "execution_count": 112,
   "metadata": {},
   "outputs": [],
   "source": [
    "industry_dict = {'health/beauty':\n",
    "                ['BARBER & BEAUTY SHOPS', 'HEALTH & BEAUTY SPAS'],\n",
    "                 \n",
    "                'food/drink/hotel':\n",
    "                ['RESTAURANTS (EXCEPT EXPRESS)', 'EXPRESS PAYMNT SRVCE FAST FOOD', 'HOTELS MOTELS & RESORTS-LODGIN',\n",
    "                'DRINKING PLACES (ALCOHOLIC)', 'MISCELLANEOUS FOOD STORES', 'GROCERY STORES SUPERMARKETS',\n",
    "                'PACKAGE STORES-BEER WINE & LIQ', 'CATERERS'],\n",
    "                 \n",
    "                'medical/dental/vets':\n",
    "                 ['MEDICAL SERVICES MISC', 'DENTISTS ORTHODONTISTS', 'OPTICIANS',\n",
    "                 'DRUG STORES & PHARMACIES', 'VETERINARY SERVICES', 'CHIROPRACTORS', 'DOCTORS-NOT ELSEWHERE CLASS.',\n",
    "                 'OSTEOPATHS', 'LAB/DENT/OPTH-HOSP EQPT/SUP(PC', 'CHIROPODISTS', 'NURSING & PERSONAL CARE FACILI',\n",
    "                 'OPTOMETRISTS OPHTHALMOLOGISTS'],\n",
    "                 \n",
    "                'auto':\n",
    "                 ['AUTOMOTIVE SERVICE SHOPS', 'AUTOMOTIVE PARTS ACCESSORIES', 'AUTOMOTIVE BODY REPAIR SHOPS',\n",
    "                 'AUTOMOTIVE TYRE STORES', 'MOTORCYCLE SHOPS & DEALERS', 'BICYCLE SHOPS-SALES & SERVICE',\n",
    "                 'AUTO RENTALS', 'FUEL DEALERS', 'MARINAS MARINE SERVICES & SUPP', 'MOTOR VEHICLE SUP/NEW PTS(P/C)',\n",
    "                 'AUTO AIRCRAFT FARM EQP.', 'BOAT RENTALS & LEASES', 'AUTOMOTIVE PAINT SHOPS', 'TRANSPORTATION SERVICES  MISC',\n",
    "                 'TYRE RETREADING & REPAIR', 'TAXICABS & LIMOUSINES', 'SERVICE STATIONS'],\n",
    "                \n",
    "                'retail':\n",
    "                ['GIFT CARD NOVELTY & SOUVENIR', 'MISCELLANEOUS & SPECIALITY RET', 'WOMENS READY TO WEAR STORES',\n",
    "                'FURNITURE HOME FURNISHING', 'JEWELLERY STORES WATCHES CLOCK', 'PET SHOPS PET FOODS & SUPPLIES',\n",
    "                'SPORTING GOODS STORES', 'FLORISTS', 'HOUSEHOLD APPLIANCE STORES', 'MENS & WOMENS CLOTHING STORES',\n",
    "                'ARTISTS SUPPLY & CRAFT SHOPS', 'MISCELLANEOUS GENERAL MERCHAND', 'GLASS PAINT & WALLPAPER STORES',\n",
    "                'HOBBY TOYS & GAME SHOPS', 'ART DEALERS & GALLERIES', 'STATIONERY OFFICE/SCHOOL STORE',\n",
    "                'ANTIQUE SHOPS-SALES REPAIRS RE', 'CHILDRENS & INFANTS WEAR STORE', 'CIGAR STORES & STANDS',\n",
    "                'SHOE STORES', 'BAKERIES', 'MUSIC STORES INSTRUMENTS PIANO', 'MENS & BOYS CLOTHING & ACSSORS',\n",
    "                'SEWING NEEDLEWORK FABRIC GOODS', 'BOOK SHOPS', 'FAMILY CLOTHING STORES', 'SPORTS APPEREL RIDING APPEREL',\n",
    "                'WOMENS ACCESSORY & SPECIALITY', 'MISCELLANEOUS HOME FURNISHING', 'COSMETIC STORES', 'ELECTRONICS STORES'],\n",
    "                \n",
    "                'professional services':\n",
    "                ['BUSINESS SERVICES MISC', 'PROFESSIONAL SERVICES', 'LEGAL SERVICES ATTORNEYS',\n",
    "                'SCHOOLS & EDUCATIONAL SERVICES', 'ARCHITECTURAL ENGINEERING', 'MISCELLANEOUS PERSONAL SERVICE',\n",
    "                'CHILD CARE SERVICES', 'RECREATION SERVICES', 'FUNERAL SERVICE & CREMATORIES',\n",
    "                'ACCOUNTING AUDITING BOOKEEPING', 'COLLEGES UNIVERSITIES', 'MANAGEMENT CONSULTING & PUBLIC',\n",
    "                'ADVERTISING SERVICES', 'TAILORS SEAMSTRESSES ALTERATNS'],\n",
    "                \n",
    "                'industrial':\n",
    "                ['LUMBER & BUILDING MATERIALS', 'SPECIAL TRADE CONTRACTORS', 'INDUSTRIAL SUP-UNCLASS (P.CRD)',\n",
    "                'NURSERIES LAWN & GARDEN SUPPLY', 'FLOOR COVERING STORES', 'PLUMBING/HEAT-EQUIP/SUP(P.CRD0',\n",
    "                'DRAPERY WINDOWCOVERING & UPHOL', 'ELEC. PARTS/EQUIPMENT (P.CARD)', 'HEATING PLUMBING AIR CONDITION',\n",
    "                'HARDWARE STORES', 'HRDWARE EQUIP/SUPPLIES(P.CARD)', 'GENERAL CONTRACTORS',\n",
    "                'COMMERCIAL EQPT-UNCLASS(P.CRD)', 'CONSTRUCTION MAT-UNCLASS (P/C)', 'ELECTRICAL CONTRACTORS',\n",
    "                'LANDSCAPING & HORTICULTURAL', 'MASONRY STONEWORK PLASTERING', 'ROOFING & SIDING SHEET METAL']}"
   ]
  },
  {
   "cell_type": "code",
   "execution_count": 113,
   "metadata": {},
   "outputs": [],
   "source": [
    "MCC_Desc_list = []\n",
    "industry_list = []\n",
    "for key, value in industry_dict.items():\n",
    "    for desc in value:\n",
    "        MCC_Desc_list.append(desc)\n",
    "        industry_list.append(key)\n",
    "\n",
    "industry_df = pd.DataFrame({'MCC_Description': MCC_Desc_list, 'Industry': industry_list})"
   ]
  },
  {
   "cell_type": "code",
   "execution_count": 114,
   "metadata": {},
   "outputs": [],
   "source": [
    "final_df = df.merge(industry_df, 'left', on = 'MCC_Description')"
   ]
  },
  {
   "cell_type": "code",
   "execution_count": 115,
   "metadata": {},
   "outputs": [],
   "source": [
    "final_df['Industry'] = final_df['Industry'].fillna('other')"
   ]
  },
  {
   "cell_type": "code",
   "execution_count": 116,
   "metadata": {},
   "outputs": [
    {
     "data": {
      "text/html": [
       "<div>\n",
       "<style scoped>\n",
       "    .dataframe tbody tr th:only-of-type {\n",
       "        vertical-align: middle;\n",
       "    }\n",
       "\n",
       "    .dataframe tbody tr th {\n",
       "        vertical-align: top;\n",
       "    }\n",
       "\n",
       "    .dataframe thead tr th {\n",
       "        text-align: left;\n",
       "    }\n",
       "\n",
       "    .dataframe thead tr:last-of-type th {\n",
       "        text-align: right;\n",
       "    }\n",
       "</style>\n",
       "<table border=\"1\" class=\"dataframe\">\n",
       "  <thead>\n",
       "    <tr>\n",
       "      <th></th>\n",
       "      <th colspan=\"2\" halign=\"left\">responded</th>\n",
       "    </tr>\n",
       "    <tr>\n",
       "      <th></th>\n",
       "      <th>count</th>\n",
       "      <th>mean</th>\n",
       "    </tr>\n",
       "    <tr>\n",
       "      <th>Industry</th>\n",
       "      <th></th>\n",
       "      <th></th>\n",
       "    </tr>\n",
       "  </thead>\n",
       "  <tbody>\n",
       "    <tr>\n",
       "      <td>auto</td>\n",
       "      <td>315869</td>\n",
       "      <td>0.002748</td>\n",
       "    </tr>\n",
       "    <tr>\n",
       "      <td>food/drink/hotel</td>\n",
       "      <td>734309</td>\n",
       "      <td>0.006625</td>\n",
       "    </tr>\n",
       "    <tr>\n",
       "      <td>health/beauty</td>\n",
       "      <td>228966</td>\n",
       "      <td>0.004678</td>\n",
       "    </tr>\n",
       "    <tr>\n",
       "      <td>industrial</td>\n",
       "      <td>267454</td>\n",
       "      <td>0.002550</td>\n",
       "    </tr>\n",
       "    <tr>\n",
       "      <td>medical/dental/vets</td>\n",
       "      <td>210228</td>\n",
       "      <td>0.001960</td>\n",
       "    </tr>\n",
       "    <tr>\n",
       "      <td>other</td>\n",
       "      <td>388814</td>\n",
       "      <td>0.003536</td>\n",
       "    </tr>\n",
       "    <tr>\n",
       "      <td>professional services</td>\n",
       "      <td>257669</td>\n",
       "      <td>0.002600</td>\n",
       "    </tr>\n",
       "    <tr>\n",
       "      <td>retail</td>\n",
       "      <td>562675</td>\n",
       "      <td>0.004160</td>\n",
       "    </tr>\n",
       "  </tbody>\n",
       "</table>\n",
       "</div>"
      ],
      "text/plain": [
       "                      responded          \n",
       "                          count      mean\n",
       "Industry                                 \n",
       "auto                     315869  0.002748\n",
       "food/drink/hotel         734309  0.006625\n",
       "health/beauty            228966  0.004678\n",
       "industrial               267454  0.002550\n",
       "medical/dental/vets      210228  0.001960\n",
       "other                    388814  0.003536\n",
       "professional services    257669  0.002600\n",
       "retail                   562675  0.004160"
      ]
     },
     "execution_count": 116,
     "metadata": {},
     "output_type": "execute_result"
    }
   ],
   "source": [
    "final_df.groupby('Industry').agg({'responded':['count', 'mean']})"
   ]
  },
  {
   "cell_type": "code",
   "execution_count": 117,
   "metadata": {},
   "outputs": [
    {
     "data": {
      "text/plain": [
       "Index(['Hashed_ID', 'Tenure', 'Average_Turnover', 'Average_Trans_Count',\n",
       "       'Times_Marketed_To', 'Message', 'Xer', 'MCC_Description', 'Pam_Score',\n",
       "       'responded', 'Industry'],\n",
       "      dtype='object')"
      ]
     },
     "execution_count": 117,
     "metadata": {},
     "output_type": "execute_result"
    }
   ],
   "source": [
    "final_df.columns"
   ]
  },
  {
   "cell_type": "code",
   "execution_count": null,
   "metadata": {},
   "outputs": [],
   "source": []
  }
 ],
 "metadata": {
  "kernelspec": {
   "display_name": "Python 3",
   "language": "python",
   "name": "python3"
  },
  "language_info": {
   "codemirror_mode": {
    "name": "ipython",
    "version": 3
   },
   "file_extension": ".py",
   "mimetype": "text/x-python",
   "name": "python",
   "nbconvert_exporter": "python",
   "pygments_lexer": "ipython3",
   "version": "3.6.9"
  }
 },
 "nbformat": 4,
 "nbformat_minor": 2
}
