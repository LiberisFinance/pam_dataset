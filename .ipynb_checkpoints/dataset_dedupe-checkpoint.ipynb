{
 "cells": [
  {
   "cell_type": "code",
   "execution_count": 2,
   "metadata": {},
   "outputs": [],
   "source": [
    "from fast_to_SQL.fast_to_SQL import to_sql_fast\n",
    "import pandas as pd\n",
    "import numpy as np\n",
    "from urllib.parse import quote_plus\n",
    "import sqlalchemy\n",
    "\n",
    "params = quote_plus(\n",
    "    \"\"\"DRIVER={ODBC Driver 13 for SQL Server};\n",
    "    SERVER=server-dw01.database.windows.net;\n",
    "    DATABASE=DataWarehouseStaging;\n",
    "    UID=dw_userlogin;\n",
    "    PWD=kljDueK!7\"\"\"\n",
    ")\n",
    "\n",
    "ENGINE = sqlalchemy.create_engine(\"mssql+pyodbc:///?odbc_connect=%s\" % params)"
   ]
  },
  {
   "cell_type": "code",
   "execution_count": 1,
   "metadata": {},
   "outputs": [],
   "source": [
    "def dedupe(df, dupe_df):\n",
    "    comb_df = df.merge(dupe_df, how = 'left', left_on = 'com_id_h', right_on = 'Old')\n",
    "    comb_df['deduped_id'] = comb_df['Actual_New'].combine_first(comb_df['com_id_h'])\n",
    "    agg_cols = [i for i in comb_df.columns if i[:2] == '20']\n",
    "    agg_df = comb_df.groupby('deduped_id')[agg_cols].mean()\n",
    "    agg_df = agg_df.reset_index()\n",
    "    agg_df = agg_df.rename(columns = {'deduped_id': 'com_id_h'})\n",
    "    return agg_df"
   ]
  },
  {
   "cell_type": "code",
   "execution_count": 3,
   "metadata": {},
   "outputs": [],
   "source": [
    "dupe_df = pd.read_sql('''SELECT *\n",
    "                    FROM marketing.Z_WP_OldtoNewIDs''', ENGINE)"
   ]
  },
  {
   "cell_type": "code",
   "execution_count": 4,
   "metadata": {},
   "outputs": [],
   "source": [
    "df_TO = pd.read_sql('''SELECT *\n",
    "                    FROM pam.TO_dataset''', ENGINE)"
   ]
  },
  {
   "cell_type": "code",
   "execution_count": 6,
   "metadata": {},
   "outputs": [],
   "source": [
    "df_TO_deduped = dedupe(df_TO, dupe_df)"
   ]
  },
  {
   "cell_type": "code",
   "execution_count": 7,
   "metadata": {},
   "outputs": [],
   "source": [
    "to_sql_fast(df_TO_deduped, name = 'pam.TO_dataset_dedupe', engine = ENGINE, if_exists = 'replace')"
   ]
  },
  {
   "cell_type": "code",
   "execution_count": 8,
   "metadata": {},
   "outputs": [],
   "source": [
    "df_trans = pd.read_sql('''SELECT *\n",
    "                    FROM pam.trans_dataset''', ENGINE)"
   ]
  },
  {
   "cell_type": "code",
   "execution_count": 9,
   "metadata": {},
   "outputs": [],
   "source": [
    "df_trans_deduped = dedupe(df_trans, dupe_df)"
   ]
  },
  {
   "cell_type": "code",
   "execution_count": 10,
   "metadata": {},
   "outputs": [],
   "source": [
    "to_sql_fast(df_trans_deduped, name = 'pam.trans_dataset_dedupe', engine = ENGINE, if_exists = 'replace')"
   ]
  },
  {
   "cell_type": "code",
   "execution_count": null,
   "metadata": {},
   "outputs": [],
   "source": []
  },
  {
   "cell_type": "code",
   "execution_count": 11,
   "metadata": {},
   "outputs": [],
   "source": [
    "df_feature = pd.read_sql('''SELECT * FROM pam.dataset_features''', ENGINE)"
   ]
  },
  {
   "cell_type": "code",
   "execution_count": 14,
   "metadata": {},
   "outputs": [],
   "source": [
    "comb_df_feature = df_feature.merge(dupe_df, how = 'left', left_on = 'com_id_h', right_on = 'Old')"
   ]
  },
  {
   "cell_type": "code",
   "execution_count": 16,
   "metadata": {},
   "outputs": [],
   "source": [
    "comb_df_feature['deduped_id'] = comb_df_feature['Actual_New'].combine_first(comb_df_feature['com_id_h'])"
   ]
  },
  {
   "cell_type": "code",
   "execution_count": 19,
   "metadata": {},
   "outputs": [
    {
     "data": {
      "text/plain": [
       "Index(['com_id_h', 'file_date', 'MCC_DESC', 'tenure_in_months', 'Old',\n",
       "       'Actual_New', 'Id_Conv_type', 'deduped_id'],\n",
       "      dtype='object')"
      ]
     },
     "execution_count": 19,
     "metadata": {},
     "output_type": "execute_result"
    }
   ],
   "source": [
    "comb_df_feature.columns"
   ]
  },
  {
   "cell_type": "code",
   "execution_count": 20,
   "metadata": {},
   "outputs": [],
   "source": [
    "df_feature_dedupe = comb_df_feature[['deduped_id', 'file_date', 'MCC_DESC', 'tenure_in_months']]"
   ]
  },
  {
   "cell_type": "code",
   "execution_count": 21,
   "metadata": {},
   "outputs": [],
   "source": [
    "df_feature_dedupe = df_feature_dedupe.rename(columns = {'deduped_id': 'com_id_h'})"
   ]
  },
  {
   "cell_type": "code",
   "execution_count": 23,
   "metadata": {},
   "outputs": [],
   "source": [
    "to_sql_fast(df_feature_dedupe, name = 'pam.dataset_features_dedupe', engine = ENGINE, if_exists = 'replace')"
   ]
  },
  {
   "cell_type": "code",
   "execution_count": null,
   "metadata": {},
   "outputs": [],
   "source": []
  }
 ],
 "metadata": {
  "kernelspec": {
   "display_name": "Python 3",
   "language": "python",
   "name": "python3"
  },
  "language_info": {
   "codemirror_mode": {
    "name": "ipython",
    "version": 3
   },
   "file_extension": ".py",
   "mimetype": "text/x-python",
   "name": "python",
   "nbconvert_exporter": "python",
   "pygments_lexer": "ipython3",
   "version": "3.6.9"
  }
 },
 "nbformat": 4,
 "nbformat_minor": 2
}
