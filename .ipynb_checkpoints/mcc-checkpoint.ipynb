{
 "cells": [
  {
   "cell_type": "code",
   "execution_count": 260,
   "metadata": {},
   "outputs": [],
   "source": [
    "import re\n",
    "import numpy as np\n",
    "import pandas as pd\n",
    "\n",
    "# Gensim\n",
    "import gensim\n",
    "import gensim.corpora as corpora\n",
    "\n",
    "from gensim.models import CoherenceModel\n",
    "\n",
    "# Plotting tools\n",
    "import pyLDAvis\n",
    "import pyLDAvis.gensim  # don't skip this\n",
    "import matplotlib.pyplot as plt\n",
    "%matplotlib inline\n",
    "\n",
    "import warnings\n",
    "warnings.filterwarnings(\"ignore\",category=DeprecationWarning)\n",
    "\n",
    "from urllib.parse import quote_plus\n",
    "import sqlalchemy\n",
    "\n",
    "from pathlib import Path\n",
    "cwd = Path.cwd()\n",
    "data_path = cwd / 'data'\n",
    "\n",
    "params = quote_plus(\n",
    "    \"\"\"DRIVER={ODBC Driver 13 for SQL Server};SERVER=server-dw01.database.windows.net;DATABASE=DataWarehouseStaging;UID=dw_userlogin;PWD=kljDueK!7\"\"\"\n",
    ")\n",
    "\n",
    "ENGINE = sqlalchemy.create_engine(\"mssql+pyodbc:///?odbc_connect=%s\" % params)\n",
    "\n",
    "\n",
    "def dwhQuery(sqlQuery):\n",
    "    \"\"\"\n",
    "    Wrapper for turning SQL query to DWH\n",
    "    into a pandas dataframe\n",
    "    :param sqlQuery: SQL query to be processed\n",
    "    :return: SQL query as a pandas DataFrame\n",
    "    \"\"\"\n",
    "    return pd.read_sql(sql=sqlQuery, con=ENGINE)\n"
   ]
  },
  {
   "cell_type": "code",
   "execution_count": 261,
   "metadata": {},
   "outputs": [],
   "source": [
    "df = dwhQuery('''SELECT w.[Opportunity ID]\n",
    "\t,LOWER([MCC_Desc]) AS [MCC_DESC]\n",
    "\t,[Industry_Corrected]\n",
    "\t,o.[Fund Date]\n",
    "\t,o.[Funded Deals]\n",
    "\t,[Industry]\n",
    "\t,[Contract ID]\n",
    "\t,[Written Off]\n",
    "\t,[Date Written Off]\n",
    "\n",
    "FROM [marketing].[WP_Attri_Mailers] AS w\n",
    "\n",
    "LEFT JOIN Opportunities AS o\n",
    "\tON o.[Opportunity ID] = w.[Opportunity ID]\n",
    "\n",
    "INNER JOIN Contracts AS c\n",
    "\tON o.[Opportunity ID] = c.[Original Opportunity ID]\n",
    "\n",
    "WHERE w.[Opportunity ID] IS NOT NULL AND MCC_DESC IS NOT NULL\n",
    "\n",
    "''')"
   ]
  },
  {
   "cell_type": "code",
   "execution_count": 262,
   "metadata": {},
   "outputs": [],
   "source": [
    "mccs = list(df['MCC_DESC'])\n",
    "mcc_dupe = list(set(mccs))\n",
    "mcc_list = [i.lower() for i in mcc_dupe if pd.notnull(i)]"
   ]
  },
  {
   "cell_type": "code",
   "execution_count": 263,
   "metadata": {},
   "outputs": [],
   "source": [
    "from gensim.utils import simple_preprocess\n",
    "\n",
    "mcc_tokens = [gensim.utils.simple_preprocess(i) for i in mcc_list]"
   ]
  },
  {
   "cell_type": "code",
   "execution_count": 275,
   "metadata": {},
   "outputs": [],
   "source": [
    "from nltk.corpus import stopwords\n",
    "stop_words = stopwords.words('english')\n",
    "stop_words.extend(['pc', 'crd', 'card', 're', 'ag'])\n",
    "\n",
    "mcc_tokens_nostop = [[token for token in doc if token not in stop_words] for doc in mcc_tokens]"
   ]
  },
  {
   "cell_type": "code",
   "execution_count": 276,
   "metadata": {},
   "outputs": [],
   "source": [
    "mcc_fix = pd.read_csv(data_path / 'mcc_corrections.csv')\n",
    "mcc_fix = mcc_fix.fillna('')\n",
    "mcc_dict = pd.Series(mcc_fix['new'].values, index=mcc_fix['old']).to_dict()    "
   ]
  },
  {
   "cell_type": "code",
   "execution_count": 277,
   "metadata": {},
   "outputs": [
    {
     "data": {
      "text/plain": [
       "{'prod': 'production',\n",
       " 'dist': 'distribution',\n",
       " 'comm': 'commercial',\n",
       " 'hrdware': 'hardware',\n",
       " 'not elsewhere class.': 'unclassified',\n",
       " 'spec': 'special',\n",
       " 'clng': 'cleaning',\n",
       " 'sanit': 'sanitary',\n",
       " 'repr': 'repair',\n",
       " 'artificl': 'artificial',\n",
       " 'supp': 'supply',\n",
       " 'paymnt': 'payment',\n",
       " 'srvce': 'service',\n",
       " 'termnls': 'terminal',\n",
       " 'unclass': 'unclassified',\n",
       " 'facili': 'facility',\n",
       " 'sup': 'supply',\n",
       " 'merch': 'merchandise',\n",
       " 'comfectionery': 'confectionery',\n",
       " 'uphol': 'upholstery',\n",
       " 'serv': 'service',\n",
       " 'pts': 'part',\n",
       " 'comb': 'combined',\n",
       " 'reta': 'retail',\n",
       " 'centrs': 'center',\n",
       " 'liq': 'liquor',\n",
       " 'svs': 'service',\n",
       " 'alteratns': 'alterations',\n",
       " 'eqpt': 'equipment',\n",
       " 'mat': 'material',\n",
       " 'apperel': 'apparel',\n",
       " 'rec': 'recreation',\n",
       " 'mrktg': 'marketing',\n",
       " 'subscr': 'subscription',\n",
       " 'misc': 'miscellaneous',\n",
       " 'dolpinar': 'dolphin',\n",
       " 'merchand': 'merchandise',\n",
       " 'sware': 'software',\n",
       " 'prec': 'precious',\n",
       " 'mtl': 'metal',\n",
       " 'jewl': 'jewellery',\n",
       " 'lab': 'laboratory',\n",
       " 'dent': 'dental',\n",
       " 'opth': 'ophthalmic',\n",
       " 'hosp': 'hospital',\n",
       " 'maint': 'maintenance',\n",
       " 'mrkting': 'marketing',\n",
       " 'carni': 'carnival',\n",
       " 'provisns': 'provision',\n",
       " 'acssors': 'accessory',\n",
       " 'elec.': 'electronic',\n",
       " 'equip': 'equipment',\n",
       " 'unifm': 'uniform',\n",
       " 'ag': '',\n",
       " 'lodgin': 'lodging',\n",
       " 'establishme': 'establishment'}"
      ]
     },
     "execution_count": 277,
     "metadata": {},
     "output_type": "execute_result"
    }
   ],
   "source": [
    "mcc_dict"
   ]
  },
  {
   "cell_type": "code",
   "execution_count": 287,
   "metadata": {},
   "outputs": [],
   "source": [
    "for i, doc in enumerate(mcc_tokens_nostop):\n",
    "    for j,token in enumerate(doc):\n",
    "        if token in mcc_dict.keys():\n",
    "            mcc_tokens_nostop[i][j] = mcc_dict[token]"
   ]
  },
  {
   "cell_type": "code",
   "execution_count": 288,
   "metadata": {},
   "outputs": [],
   "source": [
    "from nltk.stem import WordNetLemmatizer\n",
    "lemmatizer = WordNetLemmatizer()\n",
    "mcc_tokens_lemmad = [[lemmatizer.lemmatize(token) for token in doc] for doc in mcc_tokens_nostop]"
   ]
  },
  {
   "cell_type": "code",
   "execution_count": 289,
   "metadata": {},
   "outputs": [],
   "source": [
    "id2word = corpora.Dictionary(mcc_tokens_lemmad)\n",
    "texts = mcc_tokens_lemmad\n",
    "\n",
    "corpus = [id2word.doc2bow(text) for text in texts]"
   ]
  },
  {
   "cell_type": "code",
   "execution_count": 293,
   "metadata": {},
   "outputs": [],
   "source": [
    "from gensim.models.ldamodel import LdaModel\n",
    "lda_model = LdaModel(corpus, id2word = id2word, num_topics = 7, alpha = 'auto', random_state = 42,\n",
    "                    update_every = 1, chunksize = 100, passes = 10)"
   ]
  },
  {
   "cell_type": "code",
   "execution_count": 294,
   "metadata": {},
   "outputs": [],
   "source": [
    "def format_topics_sentences(ldamodel=lda_model, corpus=corpus, texts=texts):\n",
    "    # Init output\n",
    "    sent_topics_df = pd.DataFrame()\n",
    "\n",
    "    # Get main topic in each document\n",
    "    for i, row in enumerate(ldamodel[corpus]):\n",
    "        row = sorted(row, key=lambda x: (x[1]), reverse=True)\n",
    "        # Get the Dominant topic, Perc Contribution and Keywords for each document\n",
    "        for j, (topic_num, prop_topic) in enumerate(row):\n",
    "            if j == 0:  # => dominant topic\n",
    "                wp = ldamodel.show_topic(topic_num)\n",
    "                topic_keywords = \", \".join([word for word, prop in wp])\n",
    "                sent_topics_df = sent_topics_df.append(pd.Series([int(topic_num), round(prop_topic,4), topic_keywords]), ignore_index=True)\n",
    "            else:\n",
    "                break\n",
    "    sent_topics_df.columns = ['Dominant_Topic', 'Perc_Contribution', 'Topic_Keywords']\n",
    "\n",
    "    # Add original text to the end of the output\n",
    "    contents = pd.Series(texts)\n",
    "    sent_topics_df = pd.concat([sent_topics_df, contents], axis=1)\n",
    "    return(sent_topics_df)\n",
    "\n",
    "\n",
    "df_topic_sents_keywords = format_topics_sentences(ldamodel=lda_model, corpus=corpus, texts=texts)\n",
    "\n",
    "# Format\n",
    "df_dominant_topic = df_topic_sents_keywords.reset_index()\n",
    "df_dominant_topic.columns = ['Document_No', 'Dominant_Topic', 'Topic_Perc_Contrib', 'Keywords', 'Text']"
   ]
  },
  {
   "cell_type": "code",
   "execution_count": 295,
   "metadata": {},
   "outputs": [
    {
     "name": "stdout",
     "output_type": "stream",
     "text": [
      "[(0,\n",
      "  '0.185*\"store\" + 0.050*\"miscellaneous\" + 0.035*\"service\" + 0.026*\"accessory\" '\n",
      "  '+ 0.021*\"apparel\" + 0.021*\"sale\" + 0.018*\"woman\" + 0.018*\"clothing\" + '\n",
      "  '0.016*\"computer\" + 0.016*\"repair\"'),\n",
      " (1,\n",
      "  '0.078*\"service\" + 0.038*\"supply\" + 0.036*\"office\" + 0.025*\"equipment\" + '\n",
      "  '0.025*\"metal\" + 0.023*\"shop\" + 0.016*\"part\" + 0.016*\"park\" + 0.016*\"beauty\" '\n",
      "  '+ 0.016*\"photographic\"'),\n",
      " (2,\n",
      "  '0.048*\"contractor\" + 0.046*\"commercial\" + 0.037*\"dealer\" + 0.030*\"sport\" + '\n",
      "  '0.019*\"express\" + 0.019*\"art\" + 0.019*\"reproduction\" + 0.019*\"uniform\" + '\n",
      "  '0.019*\"clothing\" + 0.019*\"general\"'),\n",
      " (3,\n",
      "  '0.055*\"unclassified\" + 0.035*\"marketing\" + 0.035*\"direct\" + 0.031*\"good\" + '\n",
      "  '0.028*\"public\" + 0.021*\"supply\" + 0.021*\"merchandise\" + 0.021*\"food\" + '\n",
      "  '0.021*\"sporting\" + 0.016*\"catalog\"'),\n",
      " (4,\n",
      "  '0.038*\"rental\" + 0.035*\"service\" + 0.033*\"shop\" + 0.024*\"automotive\" + '\n",
      "  '0.021*\"watch\" + 0.021*\"jewellery\" + 0.018*\"medical\" + 0.015*\"repair\" + '\n",
      "  '0.015*\"paint\" + 0.015*\"club\"'),\n",
      " (5,\n",
      "  '0.074*\"shop\" + 0.037*\"repair\" + 0.029*\"utility\" + 0.029*\"recreation\" + '\n",
      "  '0.023*\"book\" + 0.019*\"rental\" + 0.019*\"film\" + 0.019*\"video\" + 0.019*\"care\" '\n",
      "  '+ 0.019*\"special\"'),\n",
      " (6,\n",
      "  '0.053*\"supply\" + 0.040*\"equipment\" + 0.022*\"home\" + 0.020*\"nursery\" + '\n",
      "  '0.020*\"fireplace\" + 0.020*\"florist\" + 0.018*\"furniture\" + '\n",
      "  '0.016*\"miscellaneous\" + 0.016*\"hardware\" + 0.016*\"tyre\"')]\n"
     ]
    }
   ],
   "source": [
    "# Print the Keyword in the 10 topics\n",
    "pprint(lda_model.print_topics())\n",
    "doc_lda = lda_model[corpus]"
   ]
  },
  {
   "cell_type": "code",
   "execution_count": 296,
   "metadata": {},
   "outputs": [],
   "source": [
    "df_dominant_topic['MCC'] = mcc_list"
   ]
  },
  {
   "cell_type": "code",
   "execution_count": 297,
   "metadata": {},
   "outputs": [],
   "source": [
    "opp_df = df_dominant_topic.merge(df, left_on = 'MCC', right_on = 'MCC_DESC', how = 'left')\n",
    "opp_df['Funded'] = opp_df['Funded Deals'].astype(int)"
   ]
  },
  {
   "cell_type": "code",
   "execution_count": 298,
   "metadata": {},
   "outputs": [],
   "source": [
    "no_of_topics = range(1, 25, 3)"
   ]
  },
  {
   "cell_type": "code",
   "execution_count": 299,
   "metadata": {},
   "outputs": [],
   "source": [
    "pbad_spread_list = []\n",
    "pbad_std_list = []\n",
    "for i in no_of_topics:\n",
    "    lda_model_loop = LdaModel(corpus, id2word = id2word, num_topics = i, alpha = 'asymmetric', random_state = 42,\n",
    "                    update_every = 1, chunksize = 100, passes = 10, eta = 1)\n",
    "    df_topic_sents_keywords = format_topics_sentences(ldamodel=lda_model_loop, corpus=corpus, texts=texts)\n",
    "    df_dominant_topic = df_topic_sents_keywords.reset_index()\n",
    "    df_dominant_topic.columns = ['Document_No', 'Dominant_Topic', 'Topic_Perc_Contrib', 'Keywords', 'Text']\n",
    "    df_dominant_topic['MCC'] = mcc_list\n",
    "    opp_df = df_dominant_topic.merge(df, left_on = 'MCC', right_on = 'MCC_DESC', how = 'left')\n",
    "    opp_df['Funded'] = opp_df['Funded Deals'].astype(int)\n",
    "    pbad_df = opp_df[['Dominant_Topic', 'Written Off']]\n",
    "    pbad_df = pbad_df.groupby('Dominant_Topic').agg('mean')\n",
    "    pbad_spread = pbad_df['Written Off'].max() - pbad_df['Written Off'].min()\n",
    "    pbad_std = pbad_df['Written Off'].std()\n",
    "    pbad_spread_list.append(pbad_spread)\n",
    "    pbad_std_list.append(pbad_std)"
   ]
  },
  {
   "cell_type": "code",
   "execution_count": 300,
   "metadata": {},
   "outputs": [],
   "source": [
    "final_df = pd.DataFrame({'no_of_topics':no_of_topics,\n",
    "                         'pbad_spread':pbad_spread_list,\n",
    "                         'pbad_std':pbad_std_list})"
   ]
  },
  {
   "cell_type": "code",
   "execution_count": 301,
   "metadata": {},
   "outputs": [
    {
     "data": {
      "text/plain": [
       "<matplotlib.axes._subplots.AxesSubplot at 0x1fdfa00d6a0>"
      ]
     },
     "execution_count": 301,
     "metadata": {},
     "output_type": "execute_result"
    },
    {
     "data": {
      "image/png": "[encoded data removed]",
      "text/plain": [
       "<Figure size 432x288 with 1 Axes>"
      ]
     },
     "metadata": {
      "needs_background": "light"
     },
     "output_type": "display_data"
    }
   ],
   "source": [
    "final_df.set_index('no_of_topics').plot()"
   ]
  },
  {
   "cell_type": "code",
   "execution_count": 302,
   "metadata": {},
   "outputs": [
    {
     "name": "stderr",
     "output_type": "stream",
     "text": [
      "c:\\users\\ryan.skeels\\appdata\\local\\continuum\\anaconda2\\envs\\py36_pam\\lib\\site-packages\\pandas\\core\\reshape\\merge.py:617: UserWarning: merging between different levels can give an unintended result (2 levels on the left, 1 on the right)\n",
      "  warnings.warn(msg, UserWarning)\n"
     ]
    }
   ],
   "source": [
    "lda_model_loop = LdaModel(corpus, id2word = id2word, num_topics = 7, alpha = 'asymmetric', random_state = 42,\n",
    "                update_every = 1, chunksize = 100, passes = 10, eta = 1)\n",
    "df_topic_sents_keywords = format_topics_sentences(ldamodel=lda_model_loop, corpus=corpus, texts=texts)\n",
    "df_dominant_topic = df_topic_sents_keywords.reset_index()\n",
    "df_dominant_topic.columns = ['Document_No', 'Dominant_Topic', 'Topic_Perc_Contrib', 'Keywords', 'Text']\n",
    "df_dominant_topic['MCC'] = mcc_list\n",
    "opp_df = df_dominant_topic.merge(df, left_on = 'MCC', right_on = 'MCC_DESC', how = 'left')\n",
    "pbad_df = opp_df[['Dominant_Topic', 'Written Off']]\n",
    "pbad_df = pbad_df.groupby('Dominant_Topic').agg(['mean', 'count'])\n",
    "pbad_df = pbad_df.merge(df_dominant_topic[['Dominant_Topic', 'Keywords']].drop_duplicates(), on = 'Dominant_Topic', how = 'left')"
   ]
  },
  {
   "cell_type": "code",
   "execution_count": 303,
   "metadata": {},
   "outputs": [
    {
     "data": {
      "text/html": [
       "<div>\n",
       "<style scoped>\n",
       "    .dataframe tbody tr th:only-of-type {\n",
       "        vertical-align: middle;\n",
       "    }\n",
       "\n",
       "    .dataframe tbody tr th {\n",
       "        vertical-align: top;\n",
       "    }\n",
       "\n",
       "    .dataframe thead th {\n",
       "        text-align: right;\n",
       "    }\n",
       "</style>\n",
       "<table border=\"1\" class=\"dataframe\">\n",
       "  <thead>\n",
       "    <tr style=\"text-align: right;\">\n",
       "      <th></th>\n",
       "      <th>Dominant_Topic</th>\n",
       "      <th>(Written Off, mean)</th>\n",
       "      <th>(Written Off, count)</th>\n",
       "      <th>Keywords</th>\n",
       "    </tr>\n",
       "  </thead>\n",
       "  <tbody>\n",
       "    <tr>\n",
       "      <td>0</td>\n",
       "      <td>0.0</td>\n",
       "      <td>0.091385</td>\n",
       "      <td>2101</td>\n",
       "      <td>store, miscellaneous, service, rental, accesso...</td>\n",
       "    </tr>\n",
       "    <tr>\n",
       "      <td>1</td>\n",
       "      <td>1.0</td>\n",
       "      <td>0.083077</td>\n",
       "      <td>1300</td>\n",
       "      <td>service, shop, supply, store, equipment, repai...</td>\n",
       "    </tr>\n",
       "    <tr>\n",
       "      <td>2</td>\n",
       "      <td>2.0</td>\n",
       "      <td>0.070312</td>\n",
       "      <td>256</td>\n",
       "      <td>contractor, dealer, commercial, apparel, speci...</td>\n",
       "    </tr>\n",
       "    <tr>\n",
       "      <td>3</td>\n",
       "      <td>3.0</td>\n",
       "      <td>0.087542</td>\n",
       "      <td>297</td>\n",
       "      <td>good, unclassified, sporting, durable, resort,...</td>\n",
       "    </tr>\n",
       "    <tr>\n",
       "      <td>4</td>\n",
       "      <td>4.0</td>\n",
       "      <td>0.068889</td>\n",
       "      <td>450</td>\n",
       "      <td>hobby, toy, shop, game, alcoholic, drinking, p...</td>\n",
       "    </tr>\n",
       "    <tr>\n",
       "      <td>5</td>\n",
       "      <td>5.0</td>\n",
       "      <td>0.028571</td>\n",
       "      <td>35</td>\n",
       "      <td>fireplace, screen, aquarium, seaquariums, dolp...</td>\n",
       "    </tr>\n",
       "    <tr>\n",
       "      <td>6</td>\n",
       "      <td>6.0</td>\n",
       "      <td>0.102740</td>\n",
       "      <td>146</td>\n",
       "      <td>heating, condition, air, gas, electric, water,...</td>\n",
       "    </tr>\n",
       "  </tbody>\n",
       "</table>\n",
       "</div>"
      ],
      "text/plain": [
       "   Dominant_Topic  (Written Off, mean)  (Written Off, count)  \\\n",
       "0             0.0             0.091385                  2101   \n",
       "1             1.0             0.083077                  1300   \n",
       "2             2.0             0.070312                   256   \n",
       "3             3.0             0.087542                   297   \n",
       "4             4.0             0.068889                   450   \n",
       "5             5.0             0.028571                    35   \n",
       "6             6.0             0.102740                   146   \n",
       "\n",
       "                                            Keywords  \n",
       "0  store, miscellaneous, service, rental, accesso...  \n",
       "1  service, shop, supply, store, equipment, repai...  \n",
       "2  contractor, dealer, commercial, apparel, speci...  \n",
       "3  good, unclassified, sporting, durable, resort,...  \n",
       "4  hobby, toy, shop, game, alcoholic, drinking, p...  \n",
       "5  fireplace, screen, aquarium, seaquariums, dolp...  \n",
       "6  heating, condition, air, gas, electric, water,...  "
      ]
     },
     "execution_count": 303,
     "metadata": {},
     "output_type": "execute_result"
    }
   ],
   "source": [
    "pbad_df"
   ]
  },
  {
   "cell_type": "code",
   "execution_count": null,
   "metadata": {},
   "outputs": [],
   "source": []
  }
 ],
 "metadata": {
  "kernelspec": {
   "display_name": "Python 3",
   "language": "python",
   "name": "python3"
  },
  "language_info": {
   "codemirror_mode": {
    "name": "ipython",
    "version": 3
   },
   "file_extension": ".py",
   "mimetype": "text/x-python",
   "name": "python",
   "nbconvert_exporter": "python",
   "pygments_lexer": "ipython3",
   "version": "3.6.9"
  }
 },
 "nbformat": 4,
 "nbformat_minor": 2
}
