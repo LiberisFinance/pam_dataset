{
 "cells": [
  {
   "cell_type": "code",
   "execution_count": 1,
   "metadata": {},
   "outputs": [],
   "source": [
    "from fast_to_SQL.fast_to_SQL import to_sql_fast\n",
    "from pathlib import Path\n",
    "import pandas as pd\n",
    "cwd = Path.cwd()\n",
    "data_path = cwd / 'data'\n",
    "\n",
    "\n",
    "from urllib.parse import quote_plus\n",
    "import sqlalchemy\n",
    "\n",
    "params = quote_plus(\n",
    "    \"\"\"DRIVER={ODBC Driver 13 for SQL Server};SERVER=server-dw01.database.windows.net;DATABASE=DataWarehouseStaging;UID=dw_userlogin;PWD=kljDueK!7\"\"\"\n",
    ")\n",
    "\n",
    "ENGINE = sqlalchemy.create_engine(\"mssql+pyodbc:///?odbc_connect=%s\" % params)"
   ]
  },
  {
   "cell_type": "code",
   "execution_count": 13,
   "metadata": {},
   "outputs": [],
   "source": [
    "def mid_dict_to_dwh(table_name, data_path):\n",
    "    file_list = [f.parts[-1].replace('.csv','') for f in data_path.iterdir() if '01-' in f.parts[-1]]\n",
    "    df = pd.DataFrame(data = [], columns = ['company_id', 'com_id_h'])\n",
    "    for file_name in file_list:\n",
    "            file_df = pd.read_csv(data_path / f'{file_name}.csv')\n",
    "            if 'company_id' in file_df.columns:\n",
    "                df = df.append(file_df[['company_id', 'com_id_h']])\n",
    "    df = df.drop_duplicates()\n",
    "    to_sql_fast(df, name = table_name, engine = ENGINE, if_exists = 'replace')"
   ]
  },
  {
   "cell_type": "code",
   "execution_count": 14,
   "metadata": {},
   "outputs": [],
   "source": [
    "mid_dict_to_dwh('pam.MID_dict', data_path)"
   ]
  },
  {
   "cell_type": "code",
   "execution_count": null,
   "metadata": {},
   "outputs": [],
   "source": []
  }
 ],
 "metadata": {
  "kernelspec": {
   "display_name": "Python 3",
   "language": "python",
   "name": "python3"
  },
  "language_info": {
   "codemirror_mode": {
    "name": "ipython",
    "version": 3
   },
   "file_extension": ".py",
   "mimetype": "text/x-python",
   "name": "python",
   "nbconvert_exporter": "python",
   "pygments_lexer": "ipython3",
   "version": "3.6.9"
  }
 },
 "nbformat": 4,
 "nbformat_minor": 2
}
