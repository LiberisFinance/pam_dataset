{
 "cells": [
  {
   "cell_type": "code",
   "execution_count": 1,
   "metadata": {},
   "outputs": [],
   "source": [
    "import pandas as pd\n",
    "import numpy as np\n",
    "\n",
    "%matplotlib inline\n",
    "\n",
    "def gini(roc_auc_score):\n",
    "    return roc_auc_score*2-1"
   ]
  },
  {
   "cell_type": "code",
   "execution_count": 2,
   "metadata": {},
   "outputs": [],
   "source": [
    "df = pd.read_csv('propensity_dataset.csv')"
   ]
  },
  {
   "cell_type": "code",
   "execution_count": 3,
   "metadata": {
    "scrolled": true
   },
   "outputs": [
    {
     "data": {
      "text/plain": [
       "Index(['Hashed_ID', 'land_month', 'land_month_no', 'Tenure',\n",
       "       'Average_Turnover', 'Average_Trans_Count', 'Times_Marketed_To',\n",
       "       'Message', 'Xer', 'mcc_rating', 'Pam_Score', 'Industry', 'responded',\n",
       "       'approved', 'funded'],\n",
       "      dtype='object')"
      ]
     },
     "execution_count": 3,
     "metadata": {},
     "output_type": "execute_result"
    }
   ],
   "source": [
    "df.columns"
   ]
  },
  {
   "cell_type": "code",
   "execution_count": 4,
   "metadata": {},
   "outputs": [],
   "source": [
    "df = df[['Tenure', 'Average_Turnover', 'Average_Trans_Count', 'Times_Marketed_To', 'Message', 'Xer',\n",
    "       'mcc_rating', 'Pam_Score', 'responded']]"
   ]
  },
  {
   "cell_type": "code",
   "execution_count": 5,
   "metadata": {},
   "outputs": [],
   "source": [
    "#remove outcome from features\n",
    "y = (df['responded'])\n",
    "X = df.drop('responded', axis = 1)\n",
    "feature_list = list(X.columns)"
   ]
  },
  {
   "cell_type": "code",
   "execution_count": 6,
   "metadata": {},
   "outputs": [],
   "source": [
    "from sklearn.preprocessing import StandardScaler\n",
    "scaler = StandardScaler()\n",
    "\n",
    "X = pd.DataFrame(scaler.fit_transform(X, y), columns = X.columns)"
   ]
  },
  {
   "cell_type": "code",
   "execution_count": 7,
   "metadata": {},
   "outputs": [],
   "source": [
    "from sklearn.model_selection import train_test_split\n",
    "X_train, X_test, y_train, y_test = train_test_split(X, y, test_size=0.3, random_state=42, stratify = y)"
   ]
  },
  {
   "cell_type": "code",
   "execution_count": 8,
   "metadata": {},
   "outputs": [],
   "source": [
    "import xgboost as xgb\n",
    "xgbc = xgb.XGBClassifier(objective ='binary:logistic', colsample_bytree = 0.3, learning_rate = 0.2,\n",
    "                max_depth = 5, alpha = 10, n_estimators = 50, scale_pos_weight = 250, n_jobs = -1)"
   ]
  },
  {
   "cell_type": "code",
   "execution_count": 9,
   "metadata": {},
   "outputs": [
    {
     "data": {
      "text/plain": [
       "XGBClassifier(alpha=10, base_score=0.5, booster='gbtree', colsample_bylevel=1,\n",
       "              colsample_bynode=1, colsample_bytree=0.3, gamma=0,\n",
       "              learning_rate=0.2, max_delta_step=0, max_depth=5,\n",
       "              min_child_weight=1, missing=None, n_estimators=50, n_jobs=-1,\n",
       "              nthread=None, objective='binary:logistic', random_state=0,\n",
       "              reg_alpha=0, reg_lambda=1, scale_pos_weight=250, seed=None,\n",
       "              silent=None, subsample=1, verbosity=1)"
      ]
     },
     "execution_count": 9,
     "metadata": {},
     "output_type": "execute_result"
    }
   ],
   "source": [
    "xgbc.fit(X_train, y_train)"
   ]
  },
  {
   "cell_type": "code",
   "execution_count": 10,
   "metadata": {},
   "outputs": [],
   "source": [
    "preds = xgbc.predict_proba(X_test)[:,1]"
   ]
  },
  {
   "cell_type": "code",
   "execution_count": 12,
   "metadata": {},
   "outputs": [
    {
     "name": "stdout",
     "output_type": "stream",
     "text": [
      "ROC AUC Score = 0.7057185907256185\n",
      "Gini = 0.411437181451237\n"
     ]
    }
   ],
   "source": [
    "from sklearn.metrics import roc_auc_score\n",
    "roc_auc = roc_auc_score(y_test, preds)\n",
    "print(f'ROC AUC Score = {roc_auc}')\n",
    "print(f'Gini = {gini(roc_auc)}')"
   ]
  },
  {
   "cell_type": "markdown",
   "metadata": {},
   "source": [
    "# Results from grid searching on Azure resource\n",
    "\n",
    "Params used:\n",
    "rdm_params = {\n",
    "\n",
    "        'min_child_weight': [1, 5, 10],\n",
    "        \n",
    "        'gamma': [0.5, 1, 1.5, 2],\n",
    "        \n",
    "        'subsample': [0.6, 0.8, 1.0],\n",
    "        \n",
    "        'colsample_bytree': [0.6, 0.8, 1.0],\n",
    "        \n",
    "        'max_depth': [3, 4, 5],\n",
    "        \n",
    "        'scale_pos_weight': [200, 250, 300],\n",
    "        \n",
    "        'n_estimators': [50, 75, 100]\n",
    "        }"
   ]
  },
  {
   "cell_type": "code",
   "execution_count": 13,
   "metadata": {},
   "outputs": [],
   "source": [
    "import xgboost as xgb\n",
    "xgbc_best = xgb.XGBClassifier(alpha=10, base_score=0.5, booster='gbtree', colsample_bylevel=1,\n",
    "       colsample_bytree=1.0, gamma=1.5, learning_rate=0.2,\n",
    "       max_delta_step=0, max_depth=3, min_child_weight=5, missing=None,\n",
    "       n_estimators=75, n_jobs=-1, nthread=None,\n",
    "       objective='binary:logistic', random_state=0, reg_alpha=0,\n",
    "       reg_lambda=1, scale_pos_weight=250, seed=None, silent=True,\n",
    "       subsample=1.0)"
   ]
  },
  {
   "cell_type": "code",
   "execution_count": 14,
   "metadata": {},
   "outputs": [
    {
     "data": {
      "text/plain": [
       "XGBClassifier(alpha=10, base_score=0.5, booster='gbtree', colsample_bylevel=1,\n",
       "              colsample_bynode=1, colsample_bytree=1.0, gamma=1.5,\n",
       "              learning_rate=0.2, max_delta_step=0, max_depth=3,\n",
       "              min_child_weight=5, missing=None, n_estimators=75, n_jobs=-1,\n",
       "              nthread=None, objective='binary:logistic', random_state=0,\n",
       "              reg_alpha=0, reg_lambda=1, scale_pos_weight=250, seed=None,\n",
       "              silent=True, subsample=1.0, verbosity=1)"
      ]
     },
     "execution_count": 14,
     "metadata": {},
     "output_type": "execute_result"
    }
   ],
   "source": [
    "xgbc_best.fit(X_train, y_train)"
   ]
  },
  {
   "cell_type": "code",
   "execution_count": 15,
   "metadata": {},
   "outputs": [],
   "source": [
    "preds = xgbc_best.predict_proba(X_test)[:,1]"
   ]
  },
  {
   "cell_type": "code",
   "execution_count": 16,
   "metadata": {},
   "outputs": [
    {
     "name": "stdout",
     "output_type": "stream",
     "text": [
      "ROC AUC Score = 0.7095860178638044\n",
      "Gini = 0.41917203572760875\n"
     ]
    }
   ],
   "source": [
    "from sklearn.metrics import roc_auc_score\n",
    "roc_auc = roc_auc_score(y_test, preds)\n",
    "print(f'ROC AUC Score = {roc_auc}')\n",
    "print(f'Gini = {gini(roc_auc)}')"
   ]
  },
  {
   "cell_type": "code",
   "execution_count": 33,
   "metadata": {},
   "outputs": [],
   "source": [
    "test_df = pd.DataFrame(y_test).merge(df.drop('responded', axis = 1), how = 'left', left_index = True, right_index = True)\n",
    "test_df['pred'] = preds"
   ]
  },
  {
   "cell_type": "code",
   "execution_count": 34,
   "metadata": {},
   "outputs": [
    {
     "data": {
      "text/html": [
       "<div>\n",
       "<style scoped>\n",
       "    .dataframe tbody tr th:only-of-type {\n",
       "        vertical-align: middle;\n",
       "    }\n",
       "\n",
       "    .dataframe tbody tr th {\n",
       "        vertical-align: top;\n",
       "    }\n",
       "\n",
       "    .dataframe thead th {\n",
       "        text-align: right;\n",
       "    }\n",
       "</style>\n",
       "<table border=\"1\" class=\"dataframe\">\n",
       "  <thead>\n",
       "    <tr style=\"text-align: right;\">\n",
       "      <th></th>\n",
       "      <th>responded</th>\n",
       "      <th>Tenure</th>\n",
       "      <th>Average_Turnover</th>\n",
       "      <th>Average_Trans_Count</th>\n",
       "      <th>Times_Marketed_To</th>\n",
       "      <th>Message</th>\n",
       "      <th>Xer</th>\n",
       "      <th>mcc_rating</th>\n",
       "      <th>Pam_Score</th>\n",
       "      <th>pred</th>\n",
       "    </tr>\n",
       "  </thead>\n",
       "  <tbody>\n",
       "    <tr>\n",
       "      <td>2014655</td>\n",
       "      <td>0</td>\n",
       "      <td>161.0</td>\n",
       "      <td>NaN</td>\n",
       "      <td>NaN</td>\n",
       "      <td>2</td>\n",
       "      <td>0</td>\n",
       "      <td>1.262896</td>\n",
       "      <td>-1</td>\n",
       "      <td>0.089945</td>\n",
       "      <td>0.205632</td>\n",
       "    </tr>\n",
       "    <tr>\n",
       "      <td>2760537</td>\n",
       "      <td>0</td>\n",
       "      <td>38.0</td>\n",
       "      <td>NaN</td>\n",
       "      <td>NaN</td>\n",
       "      <td>2</td>\n",
       "      <td>1</td>\n",
       "      <td>0.524241</td>\n",
       "      <td>0</td>\n",
       "      <td>0.178723</td>\n",
       "      <td>0.510317</td>\n",
       "    </tr>\n",
       "    <tr>\n",
       "      <td>828509</td>\n",
       "      <td>0</td>\n",
       "      <td>87.0</td>\n",
       "      <td>NaN</td>\n",
       "      <td>NaN</td>\n",
       "      <td>6</td>\n",
       "      <td>0</td>\n",
       "      <td>0.725846</td>\n",
       "      <td>0</td>\n",
       "      <td>0.053128</td>\n",
       "      <td>0.365397</td>\n",
       "    </tr>\n",
       "    <tr>\n",
       "      <td>73364</td>\n",
       "      <td>0</td>\n",
       "      <td>NaN</td>\n",
       "      <td>NaN</td>\n",
       "      <td>NaN</td>\n",
       "      <td>1</td>\n",
       "      <td>0</td>\n",
       "      <td>0.935730</td>\n",
       "      <td>0</td>\n",
       "      <td>NaN</td>\n",
       "      <td>0.548783</td>\n",
       "    </tr>\n",
       "    <tr>\n",
       "      <td>2665674</td>\n",
       "      <td>0</td>\n",
       "      <td>56.0</td>\n",
       "      <td>13629.00</td>\n",
       "      <td>1210.00</td>\n",
       "      <td>20</td>\n",
       "      <td>0</td>\n",
       "      <td>1.257342</td>\n",
       "      <td>1</td>\n",
       "      <td>0.069650</td>\n",
       "      <td>0.566605</td>\n",
       "    </tr>\n",
       "    <tr>\n",
       "      <td>...</td>\n",
       "      <td>...</td>\n",
       "      <td>...</td>\n",
       "      <td>...</td>\n",
       "      <td>...</td>\n",
       "      <td>...</td>\n",
       "      <td>...</td>\n",
       "      <td>...</td>\n",
       "      <td>...</td>\n",
       "      <td>...</td>\n",
       "      <td>...</td>\n",
       "    </tr>\n",
       "    <tr>\n",
       "      <td>596779</td>\n",
       "      <td>0</td>\n",
       "      <td>111.0</td>\n",
       "      <td>18533.00</td>\n",
       "      <td>1777.00</td>\n",
       "      <td>24</td>\n",
       "      <td>1</td>\n",
       "      <td>0.770084</td>\n",
       "      <td>0</td>\n",
       "      <td>0.089945</td>\n",
       "      <td>0.468026</td>\n",
       "    </tr>\n",
       "    <tr>\n",
       "      <td>1635610</td>\n",
       "      <td>0</td>\n",
       "      <td>11.0</td>\n",
       "      <td>41362.00</td>\n",
       "      <td>1056.00</td>\n",
       "      <td>8</td>\n",
       "      <td>0</td>\n",
       "      <td>NaN</td>\n",
       "      <td>0</td>\n",
       "      <td>0.108942</td>\n",
       "      <td>0.634585</td>\n",
       "    </tr>\n",
       "    <tr>\n",
       "      <td>1507617</td>\n",
       "      <td>0</td>\n",
       "      <td>15.0</td>\n",
       "      <td>9398.00</td>\n",
       "      <td>1073.00</td>\n",
       "      <td>9</td>\n",
       "      <td>1</td>\n",
       "      <td>0.829797</td>\n",
       "      <td>1</td>\n",
       "      <td>0.093595</td>\n",
       "      <td>0.770148</td>\n",
       "    </tr>\n",
       "    <tr>\n",
       "      <td>1454487</td>\n",
       "      <td>0</td>\n",
       "      <td>245.0</td>\n",
       "      <td>62224.58</td>\n",
       "      <td>56.55</td>\n",
       "      <td>26</td>\n",
       "      <td>0</td>\n",
       "      <td>0.380224</td>\n",
       "      <td>0</td>\n",
       "      <td>0.088074</td>\n",
       "      <td>0.163990</td>\n",
       "    </tr>\n",
       "    <tr>\n",
       "      <td>1079282</td>\n",
       "      <td>0</td>\n",
       "      <td>278.0</td>\n",
       "      <td>NaN</td>\n",
       "      <td>NaN</td>\n",
       "      <td>5</td>\n",
       "      <td>1</td>\n",
       "      <td>0.508798</td>\n",
       "      <td>0</td>\n",
       "      <td>0.089945</td>\n",
       "      <td>0.211441</td>\n",
       "    </tr>\n",
       "  </tbody>\n",
       "</table>\n",
       "<p>916693 rows × 10 columns</p>\n",
       "</div>"
      ],
      "text/plain": [
       "         responded  Tenure  Average_Turnover  Average_Trans_Count  \\\n",
       "2014655          0   161.0               NaN                  NaN   \n",
       "2760537          0    38.0               NaN                  NaN   \n",
       "828509           0    87.0               NaN                  NaN   \n",
       "73364            0     NaN               NaN                  NaN   \n",
       "2665674          0    56.0          13629.00              1210.00   \n",
       "...            ...     ...               ...                  ...   \n",
       "596779           0   111.0          18533.00              1777.00   \n",
       "1635610          0    11.0          41362.00              1056.00   \n",
       "1507617          0    15.0           9398.00              1073.00   \n",
       "1454487          0   245.0          62224.58                56.55   \n",
       "1079282          0   278.0               NaN                  NaN   \n",
       "\n",
       "         Times_Marketed_To  Message       Xer  mcc_rating  Pam_Score      pred  \n",
       "2014655                  2        0  1.262896          -1   0.089945  0.205632  \n",
       "2760537                  2        1  0.524241           0   0.178723  0.510317  \n",
       "828509                   6        0  0.725846           0   0.053128  0.365397  \n",
       "73364                    1        0  0.935730           0        NaN  0.548783  \n",
       "2665674                 20        0  1.257342           1   0.069650  0.566605  \n",
       "...                    ...      ...       ...         ...        ...       ...  \n",
       "596779                  24        1  0.770084           0   0.089945  0.468026  \n",
       "1635610                  8        0       NaN           0   0.108942  0.634585  \n",
       "1507617                  9        1  0.829797           1   0.093595  0.770148  \n",
       "1454487                 26        0  0.380224           0   0.088074  0.163990  \n",
       "1079282                  5        1  0.508798           0   0.089945  0.211441  \n",
       "\n",
       "[916693 rows x 10 columns]"
      ]
     },
     "execution_count": 34,
     "metadata": {},
     "output_type": "execute_result"
    }
   ],
   "source": [
    "test_df"
   ]
  },
  {
   "cell_type": "code",
   "execution_count": 314,
   "metadata": {},
   "outputs": [],
   "source": [
    "test_df['pred_decile'] = pd.qcut(test_df['pred'], 10, labels = False)"
   ]
  },
  {
   "cell_type": "code",
   "execution_count": 36,
   "metadata": {},
   "outputs": [
    {
     "data": {
      "text/plain": [
       "Text(3, 0.012, 'Gini = 0.42')"
      ]
     },
     "execution_count": 36,
     "metadata": {},
     "output_type": "execute_result"
    },
    {
     "data": {
      "image/png": "[encoded data removed]",
      "text/plain": [
       "<Figure size 432x288 with 1 Axes>"
      ]
     },
     "metadata": {
      "needs_background": "light"
     },
     "output_type": "display_data"
    }
   ],
   "source": [
    "import matplotlib.pyplot as plt\n",
    "plt.plot(test_df.groupby('pred_decile')['responded'].mean())\n",
    "plt.axhline(test_df['responded'].mean(), color = 'orange', dashes = [2, 2])\n",
    "plt.xticks(np.arange(0,10))\n",
    "plt.xlabel('Decile')\n",
    "plt.ylabel('Response rate')\n",
    "font = {'family': 'sans-serif',\n",
    "        'color':  'black',\n",
    "        'weight': 'normal',\n",
    "        'size': 16,\n",
    "        }\n",
    "plt.text(x = 3, y = 0.012, s= 'Gini = 0.42', fontdict = font)"
   ]
  },
  {
   "cell_type": "code",
   "execution_count": 22,
   "metadata": {},
   "outputs": [],
   "source": [
    "import pickle\n",
    "pickle.dump(xgbc_best, open('xgb_propensity.pkl', 'wb'))"
   ]
  },
  {
   "cell_type": "code",
   "execution_count": 37,
   "metadata": {},
   "outputs": [
    {
     "data": {
      "text/html": [
       "<div>\n",
       "<style scoped>\n",
       "    .dataframe tbody tr th:only-of-type {\n",
       "        vertical-align: middle;\n",
       "    }\n",
       "\n",
       "    .dataframe tbody tr th {\n",
       "        vertical-align: top;\n",
       "    }\n",
       "\n",
       "    .dataframe thead th {\n",
       "        text-align: right;\n",
       "    }\n",
       "</style>\n",
       "<table border=\"1\" class=\"dataframe\">\n",
       "  <thead>\n",
       "    <tr style=\"text-align: right;\">\n",
       "      <th></th>\n",
       "      <th>responded</th>\n",
       "      <th>Tenure</th>\n",
       "      <th>Average_Turnover</th>\n",
       "      <th>Average_Trans_Count</th>\n",
       "      <th>Times_Marketed_To</th>\n",
       "      <th>Message</th>\n",
       "      <th>Xer</th>\n",
       "      <th>mcc_rating</th>\n",
       "      <th>Pam_Score</th>\n",
       "      <th>pred</th>\n",
       "      <th>pred_decile</th>\n",
       "    </tr>\n",
       "  </thead>\n",
       "  <tbody>\n",
       "    <tr>\n",
       "      <td>2014655</td>\n",
       "      <td>0</td>\n",
       "      <td>161.0</td>\n",
       "      <td>NaN</td>\n",
       "      <td>NaN</td>\n",
       "      <td>2</td>\n",
       "      <td>0</td>\n",
       "      <td>1.262896</td>\n",
       "      <td>-1</td>\n",
       "      <td>0.089945</td>\n",
       "      <td>0.205632</td>\n",
       "      <td>0</td>\n",
       "    </tr>\n",
       "    <tr>\n",
       "      <td>2760537</td>\n",
       "      <td>0</td>\n",
       "      <td>38.0</td>\n",
       "      <td>NaN</td>\n",
       "      <td>NaN</td>\n",
       "      <td>2</td>\n",
       "      <td>1</td>\n",
       "      <td>0.524241</td>\n",
       "      <td>0</td>\n",
       "      <td>0.178723</td>\n",
       "      <td>0.510317</td>\n",
       "      <td>6</td>\n",
       "    </tr>\n",
       "    <tr>\n",
       "      <td>828509</td>\n",
       "      <td>0</td>\n",
       "      <td>87.0</td>\n",
       "      <td>NaN</td>\n",
       "      <td>NaN</td>\n",
       "      <td>6</td>\n",
       "      <td>0</td>\n",
       "      <td>0.725846</td>\n",
       "      <td>0</td>\n",
       "      <td>0.053128</td>\n",
       "      <td>0.365397</td>\n",
       "      <td>3</td>\n",
       "    </tr>\n",
       "    <tr>\n",
       "      <td>73364</td>\n",
       "      <td>0</td>\n",
       "      <td>NaN</td>\n",
       "      <td>NaN</td>\n",
       "      <td>NaN</td>\n",
       "      <td>1</td>\n",
       "      <td>0</td>\n",
       "      <td>0.935730</td>\n",
       "      <td>0</td>\n",
       "      <td>NaN</td>\n",
       "      <td>0.548783</td>\n",
       "      <td>7</td>\n",
       "    </tr>\n",
       "    <tr>\n",
       "      <td>2665674</td>\n",
       "      <td>0</td>\n",
       "      <td>56.0</td>\n",
       "      <td>13629.0</td>\n",
       "      <td>1210.0</td>\n",
       "      <td>20</td>\n",
       "      <td>0</td>\n",
       "      <td>1.257342</td>\n",
       "      <td>1</td>\n",
       "      <td>0.069650</td>\n",
       "      <td>0.566605</td>\n",
       "      <td>7</td>\n",
       "    </tr>\n",
       "  </tbody>\n",
       "</table>\n",
       "</div>"
      ],
      "text/plain": [
       "         responded  Tenure  Average_Turnover  Average_Trans_Count  \\\n",
       "2014655          0   161.0               NaN                  NaN   \n",
       "2760537          0    38.0               NaN                  NaN   \n",
       "828509           0    87.0               NaN                  NaN   \n",
       "73364            0     NaN               NaN                  NaN   \n",
       "2665674          0    56.0           13629.0               1210.0   \n",
       "\n",
       "         Times_Marketed_To  Message       Xer  mcc_rating  Pam_Score  \\\n",
       "2014655                  2        0  1.262896          -1   0.089945   \n",
       "2760537                  2        1  0.524241           0   0.178723   \n",
       "828509                   6        0  0.725846           0   0.053128   \n",
       "73364                    1        0  0.935730           0        NaN   \n",
       "2665674                 20        0  1.257342           1   0.069650   \n",
       "\n",
       "             pred  pred_decile  \n",
       "2014655  0.205632            0  \n",
       "2760537  0.510317            6  \n",
       "828509   0.365397            3  \n",
       "73364    0.548783            7  \n",
       "2665674  0.566605            7  "
      ]
     },
     "execution_count": 37,
     "metadata": {},
     "output_type": "execute_result"
    }
   ],
   "source": [
    "test_df.head()"
   ]
  },
  {
   "cell_type": "code",
   "execution_count": 311,
   "metadata": {},
   "outputs": [],
   "source": [
    "from random import random\n",
    "\n",
    "#lam = (1/96)/(1-np.exp())\n",
    "\n",
    "def to_be_called(prop, lim):\n",
    "    call_prob = np.exp((prop-lim)/0.01)**0.5\n",
    "    if prop >= lim:\n",
    "        return 1, 1\n",
    "    else:\n",
    "        if call_prob > random():\n",
    "            return 1, call_prob\n",
    "        else:\n",
    "            return 0, call_prob"
   ]
  },
  {
   "cell_type": "code",
   "execution_count": 305,
   "metadata": {},
   "outputs": [],
   "source": [
    "test_df['called'], test_df['call_prob'] = test_df['pred'].apply(lambda x: to_be_called(x, 0.75))"
   ]
  },
  {
   "cell_type": "code",
   "execution_count": 306,
   "metadata": {},
   "outputs": [
    {
     "data": {
      "text/plain": [
       "<matplotlib.axes._subplots.AxesSubplot at 0x27edfe8b908>"
      ]
     },
     "execution_count": 306,
     "metadata": {},
     "output_type": "execute_result"
    },
    {
     "data": {
      "image/png": "[encoded data removed]",
      "text/plain": [
       "<Figure size 432x288 with 1 Axes>"
      ]
     },
     "metadata": {
      "needs_background": "light"
     },
     "output_type": "display_data"
    }
   ],
   "source": [
    "test_df['pred'].plot.hist(bins = 20, ylim = (0, 100000))"
   ]
  },
  {
   "cell_type": "code",
   "execution_count": 307,
   "metadata": {},
   "outputs": [
    {
     "data": {
      "text/plain": [
       "<matplotlib.axes._subplots.AxesSubplot at 0x27f20f4fbe0>"
      ]
     },
     "execution_count": 307,
     "metadata": {},
     "output_type": "execute_result"
    },
    {
     "data": {
      "image/png": "[encoded data removed]",
      "text/plain": [
       "<Figure size 432x288 with 1 Axes>"
      ]
     },
     "metadata": {
      "needs_background": "light"
     },
     "output_type": "display_data"
    }
   ],
   "source": [
    "test_df[(test_df['called'] == 1)]['pred'].plot.hist(bins = 20, xlim = (0,1))"
   ]
  },
  {
   "cell_type": "code",
   "execution_count": 308,
   "metadata": {
    "scrolled": true
   },
   "outputs": [
    {
     "data": {
      "text/plain": [
       "12234"
      ]
     },
     "execution_count": 308,
     "metadata": {},
     "output_type": "execute_result"
    }
   ],
   "source": [
    "len(test_df[(test_df['called'] == 1) & (test_df['pred'] < 0.75)])"
   ]
  },
  {
   "cell_type": "code",
   "execution_count": 312,
   "metadata": {},
   "outputs": [
    {
     "data": {
      "text/plain": [
       "33208"
      ]
     },
     "execution_count": 312,
     "metadata": {},
     "output_type": "execute_result"
    }
   ],
   "source": [
    "len(test_df[(test_df['called'] == 1) & (test_df['pred'] >= 0.75)])"
   ]
  },
  {
   "cell_type": "code",
   "execution_count": 262,
   "metadata": {},
   "outputs": [
    {
     "data": {
      "text/plain": [
       "0.06250000000005002"
      ]
     },
     "execution_count": 262,
     "metadata": {},
     "output_type": "execute_result"
    }
   ],
   "source": [
    "x = 0.0000000000001\n",
    "lim = 0.75\n",
    "\n",
    "def prob(x, lim):\n",
    "    return (1 - ((lim - x)))**2\n",
    "\n",
    "prob(x, lim)"
   ]
  },
  {
   "cell_type": "code",
   "execution_count": 194,
   "metadata": {},
   "outputs": [],
   "source": [
    "xrange = range(1,101)\n",
    "yrange = [prob(i, 0.75) for i in xrange]"
   ]
  },
  {
   "cell_type": "code",
   "execution_count": 195,
   "metadata": {},
   "outputs": [
    {
     "data": {
      "text/plain": [
       "<matplotlib.axes._subplots.AxesSubplot at 0x27edc411278>"
      ]
     },
     "execution_count": 195,
     "metadata": {},
     "output_type": "execute_result"
    },
    {
     "data": {
      "image/png": "[encoded data removed]",
      "text/plain": [
       "<Figure size 432x288 with 1 Axes>"
      ]
     },
     "metadata": {
      "needs_background": "light"
     },
     "output_type": "display_data"
    }
   ],
   "source": [
    "pd.DataFrame({'x':xrange, 'y':yrange}).plot()"
   ]
  },
  {
   "cell_type": "code",
   "execution_count": null,
   "metadata": {},
   "outputs": [],
   "source": []
  }
 ],
 "metadata": {
  "kernelspec": {
   "display_name": "Python 3",
   "language": "python",
   "name": "python3"
  },
  "language_info": {
   "codemirror_mode": {
    "name": "ipython",
    "version": 3
   },
   "file_extension": ".py",
   "mimetype": "text/x-python",
   "name": "python",
   "nbconvert_exporter": "python",
   "pygments_lexer": "ipython3",
   "version": "3.6.9"
  }
 },
 "nbformat": 4,
 "nbformat_minor": 2
}
