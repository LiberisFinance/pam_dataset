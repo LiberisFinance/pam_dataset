{
 "cells": [
  {
   "cell_type": "code",
   "execution_count": 2,
   "metadata": {},
   "outputs": [],
   "source": [
    "from fast_to_SQL.fast_to_SQL import to_sql_fast\n",
    "import pandas as pd\n",
    "import numpy as np\n",
    "from urllib.parse import quote_plus\n",
    "import sqlalchemy\n",
    "\n",
    "params = quote_plus(\n",
    "    \"\"\"DRIVER={ODBC Driver 13 for SQL Server};\n",
    "    SERVER=server-dw01.database.windows.net;\n",
    "    DATABASE=DataWarehouseStaging;\n",
    "    UID=dw_userlogin;\n",
    "    PWD=kljDueK!7\"\"\"\n",
    ")\n",
    "\n",
    "ENGINE = sqlalchemy.create_engine(\"mssql+pyodbc:///?odbc_connect=%s\" % params)"
   ]
  },
  {
   "cell_type": "code",
   "execution_count": 21,
   "metadata": {},
   "outputs": [],
   "source": [
    "from dateutil.relativedelta import relativedelta\n",
    "from datetime import datetime\n",
    "\n",
    "def subtract_months(y, m, diff):\n",
    "    new_months = (m - diff - 1) % 12 + 1\n",
    "    new_years = y - (diff + 12 - m) // 12\n",
    "    return new_years, new_months\n",
    "\n",
    "def file_combine(odf):\n",
    "    print(f'started at {datetime.now()}')\n",
    "    df = odf.copy()\n",
    "    df = df.melt(id_vars = ['com_id_h', 'file_date'], var_name = 'file_month', value_name = 'volume')\n",
    "    print(f'df unpivoted at {datetime.now()}')\n",
    "    df.loc[:,'vol_month'] = df.loc[:,'file_month'].str[-2:].apply(lambda x: int(x.replace('_',''))+1)\n",
    "    print(f'vol_month created at {datetime.now()}')\n",
    "    df['file_date'] = pd.to_datetime(df['file_date'], dayfirst = True)\n",
    "    df['file_date_y'] = pd.DatetimeIndex(df['file_date']).year\n",
    "    df['file_date_m'] = pd.DatetimeIndex(df['file_date']).month\n",
    "    df['year'], df['month'] = subtract_months(df['file_date_y'], df['file_date_m'], df['vol_month'])\n",
    "    df['day'] = 1\n",
    "    df['vol_date'] = pd.to_datetime(df[['year', 'month', 'day']])\n",
    "    df = df.drop(columns = ['file_date_y', 'file_date_m', 'year', 'month', 'day'])\n",
    "    print(f'vol_date created at {datetime.now()}')\n",
    "    pivot_df = pd.pivot_table(df, values = 'volume', index = 'com_id_h', columns = 'vol_date', aggfunc = np.mean)\n",
    "    print(f'df repivoted at {datetime.now()}')\n",
    "    pivot_df = pivot_df.reset_index()\n",
    "    pivot_df.columns = [str(i)[:10] for i in list(pivot_df.columns)]\n",
    "    print(f'columns renamed at {datetime.now()}')\n",
    "    pivot_df = pivot_df.replace(to_replace = float(0), value = np.nan)\n",
    "    print(f'zeroes replaced with nans at {datetime.now()}')\n",
    "    return pivot_df"
   ]
  },
  {
   "cell_type": "code",
   "execution_count": 3,
   "metadata": {},
   "outputs": [],
   "source": [
    "odf = pd.read_sql('''SELECT *\n",
    "                    FROM pam.dataset_raw\n",
    "                ''', ENGINE)"
   ]
  },
  {
   "cell_type": "code",
   "execution_count": 22,
   "metadata": {},
   "outputs": [],
   "source": [
    "df_TO = odf[['com_id_h', 'file_date', 'turnover_month_1', 'turnover_month_2',\n",
    "       'turnover_month_3', 'turnover_month_4', 'turnover_month_5',\n",
    "       'turnover_month_6', 'turnover_month_7', 'turnover_month_8',\n",
    "       'turnover_month_9', 'turnover_month_10', 'turnover_month_11',\n",
    "       'turnover_month_12']]"
   ]
  },
  {
   "cell_type": "code",
   "execution_count": 23,
   "metadata": {},
   "outputs": [
    {
     "name": "stdout",
     "output_type": "stream",
     "text": [
      "df unpivoted at 2019-11-28 16:42:47.798495\n",
      "vol_month created at 2019-11-28 16:44:14.695951\n",
      "vol_date created at 2019-11-28 16:45:07.927522\n",
      "df repivoted at 2019-11-28 16:46:16.626509\n",
      "columns renamed at 2019-11-28 16:46:17.020510\n",
      "zeroes replaced with nans at 2019-11-28 16:46:17.280529\n"
     ]
    }
   ],
   "source": [
    "df_TO_final = file_combine(df_TO)"
   ]
  },
  {
   "cell_type": "code",
   "execution_count": 25,
   "metadata": {},
   "outputs": [],
   "source": [
    "to_sql_fast(df_TO_final, name = 'pam.TO_dataset', engine = ENGINE, if_exists = 'replace')"
   ]
  },
  {
   "cell_type": "code",
   "execution_count": 27,
   "metadata": {},
   "outputs": [],
   "source": [
    "df_trans = odf[['com_id_h', 'file_date','trans_num_month_1', 'trans_num_month_2', 'trans_num_month_3',\n",
    "       'trans_num_month_4', 'trans_num_month_5', 'trans_num_month_6',\n",
    "       'trans_num_month_7', 'trans_num_month_8', 'trans_num_month_9',\n",
    "       'trans_num_month_10', 'trans_num_month_11', 'trans_num_month_12']]"
   ]
  },
  {
   "cell_type": "code",
   "execution_count": 28,
   "metadata": {
    "scrolled": true
   },
   "outputs": [
    {
     "name": "stdout",
     "output_type": "stream",
     "text": [
      "df unpivoted at 2019-11-28 16:59:31.563333\n",
      "vol_month created at 2019-11-28 17:00:50.420808\n",
      "vol_date created at 2019-11-28 17:01:33.255061\n",
      "df repivoted at 2019-11-28 17:02:23.704487\n",
      "columns renamed at 2019-11-28 17:02:24.134495\n",
      "zeroes replaced with nans at 2019-11-28 17:02:24.399500\n"
     ]
    }
   ],
   "source": [
    "df_trans_final = file_combine(df_trans)"
   ]
  },
  {
   "cell_type": "code",
   "execution_count": 29,
   "metadata": {},
   "outputs": [],
   "source": [
    "to_sql_fast(df_trans_final, name = 'pam.trans_dataset', engine = ENGINE, if_exists = 'replace')"
   ]
  },
  {
   "cell_type": "code",
   "execution_count": 6,
   "metadata": {},
   "outputs": [],
   "source": [
    "feature_df = odf[['com_id_h', 'file_date', 'MCC_DESC', 'tenure_in_months']]"
   ]
  },
  {
   "cell_type": "code",
   "execution_count": 9,
   "metadata": {},
   "outputs": [],
   "source": [
    "to_sql_fast(feature_df, name = 'pam.dataset_features', engine = ENGINE, if_exists = 'replace')"
   ]
  },
  {
   "cell_type": "code",
   "execution_count": null,
   "metadata": {},
   "outputs": [],
   "source": []
  }
 ],
 "metadata": {
  "kernelspec": {
   "display_name": "Python 3",
   "language": "python",
   "name": "python3"
  },
  "language_info": {
   "codemirror_mode": {
    "name": "ipython",
    "version": 3
   },
   "file_extension": ".py",
   "mimetype": "text/x-python",
   "name": "python",
   "nbconvert_exporter": "python",
   "pygments_lexer": "ipython3",
   "version": "3.6.9"
  }
 },
 "nbformat": 4,
 "nbformat_minor": 2
}
